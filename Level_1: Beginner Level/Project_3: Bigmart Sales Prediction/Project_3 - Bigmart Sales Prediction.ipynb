{
 "cells": [
  {
   "cell_type": "markdown",
   "id": "1c5e2fdf",
   "metadata": {
    "_cell_guid": "b1076dfc-b9ad-4769-8c92-a6c4dae69d19",
    "_kg_hide-input": true,
    "_kg_hide-output": true,
    "_uuid": "8f2839f25d086af736a60e9eeb907d3b93b6e0e5",
    "execution": {
     "iopub.execute_input": "2022-08-22T05:55:52.395994Z",
     "iopub.status.busy": "2022-08-22T05:55:52.394072Z",
     "iopub.status.idle": "2022-08-22T05:55:52.412896Z",
     "shell.execute_reply": "2022-08-22T05:55:52.413556Z",
     "shell.execute_reply.started": "2022-01-28T07:20:19.512035Z"
    },
    "papermill": {
     "duration": 0.080548,
     "end_time": "2022-08-22T05:55:52.414356",
     "exception": false,
     "start_time": "2022-08-22T05:55:52.333808",
     "status": "completed"
    },
    "tags": []
   },
   "source": [
    "# ML & DATA SCIENCE INTERN @ DIGIRISE INFOLABS"
   ]
  },
  {
   "cell_type": "markdown",
   "id": "88d81789",
   "metadata": {},
   "source": [
    "### AUTHOR : PARVEJ ALAM M. ANSARI"
   ]
  },
  {
   "cell_type": "markdown",
   "id": "b30b15e7",
   "metadata": {},
   "source": [
    "# PROJECT 3 : BIGMART SALES PREDICTION"
   ]
  },
  {
   "cell_type": "markdown",
   "id": "11b7cce5",
   "metadata": {},
   "source": [
    "### The dataset is available at Kaggle : \n",
    "### https://www.kaggle.com/datasets/brijbhushannanda1979/bigmart-sales-data"
   ]
  },
  {
   "cell_type": "markdown",
   "id": "fc81285e",
   "metadata": {
    "execution": {
     "iopub.execute_input": "2022-01-28T03:10:50.203889Z",
     "iopub.status.busy": "2022-01-28T03:10:50.203295Z",
     "iopub.status.idle": "2022-01-28T03:10:50.211911Z",
     "shell.execute_reply": "2022-01-28T03:10:50.210777Z",
     "shell.execute_reply.started": "2022-01-28T03:10:50.203853Z"
    },
    "papermill": {
     "duration": 0.051735,
     "end_time": "2022-08-22T05:55:52.525838",
     "exception": false,
     "start_time": "2022-08-22T05:55:52.474103",
     "status": "completed"
    },
    "tags": []
   },
   "source": [
    "### Problem Statement:\n",
    "    \n",
    "*   According to the quote, \"Success in sales is the sum of small efforts, repeated day in & day out\"\n",
    "  \n",
    "*   Let us consider a supermarket has several outlets or several stores around the world & they want us to predict the sales which they can expect.\n",
    "\n",
    "**APPLICATION OF SALES PREDICTION:**\n",
    "   \n",
    "*    We can tell the company what are all the challenges they may face\n",
    "   \n",
    "*    What are the brands or products which is sold the most & other such kind of things\n",
    "   \n",
    "*    This helps sales team to understand which product to sell & which product to promote & other such kind of things\n",
    "   \n",
    "*    They can also make several marketing plans(let's say that a particular product in a particular store is getting sold the most & we may find some insights from it - as of why this product is getting sold the most & this helps the company to make better marketing decisions)\n",
    "    \n"
   ]
  },
  {
   "cell_type": "markdown",
   "id": "599ea7c9",
   "metadata": {
    "papermill": {
     "duration": 0.05306,
     "end_time": "2022-08-22T05:55:52.631697",
     "exception": false,
     "start_time": "2022-08-22T05:55:52.578637",
     "status": "completed"
    },
    "tags": []
   },
   "source": [
    "## 1. Importing Required Libraries:"
   ]
  },
  {
   "cell_type": "code",
   "execution_count": 2,
   "id": "85a5c962",
   "metadata": {
    "execution": {
     "iopub.execute_input": "2022-08-22T05:55:52.739852Z",
     "iopub.status.busy": "2022-08-22T05:55:52.738760Z",
     "iopub.status.idle": "2022-08-22T05:55:54.330632Z",
     "shell.execute_reply": "2022-08-22T05:55:54.330005Z",
     "shell.execute_reply.started": "2022-01-28T07:20:21.183408Z"
    },
    "papermill": {
     "duration": 1.646885,
     "end_time": "2022-08-22T05:55:54.330785",
     "exception": false,
     "start_time": "2022-08-22T05:55:52.683900",
     "status": "completed"
    },
    "tags": []
   },
   "outputs": [],
   "source": [
    "import numpy as np\n",
    "import pandas as pd\n",
    "import matplotlib.pyplot as plt\n",
    "import seaborn as sns\n",
    "from sklearn.preprocessing import LabelEncoder\n",
    "from sklearn.model_selection import train_test_split\n",
    "from xgboost import XGBRegressor\n",
    "from sklearn import metrics"
   ]
  },
  {
   "cell_type": "markdown",
   "id": "5011988d",
   "metadata": {
    "papermill": {
     "duration": 0.050891,
     "end_time": "2022-08-22T05:55:54.432656",
     "exception": false,
     "start_time": "2022-08-22T05:55:54.381765",
     "status": "completed"
    },
    "tags": []
   },
   "source": [
    "## 2. Exploratory Data Analysis:"
   ]
  },
  {
   "cell_type": "code",
   "execution_count": 3,
   "id": "269154fc",
   "metadata": {
    "execution": {
     "iopub.execute_input": "2022-08-22T05:55:54.539465Z",
     "iopub.status.busy": "2022-08-22T05:55:54.538749Z",
     "iopub.status.idle": "2022-08-22T05:55:54.603601Z",
     "shell.execute_reply": "2022-08-22T05:55:54.604161Z",
     "shell.execute_reply.started": "2022-01-28T07:20:22.137686Z"
    },
    "papermill": {
     "duration": 0.120934,
     "end_time": "2022-08-22T05:55:54.604360",
     "exception": false,
     "start_time": "2022-08-22T05:55:54.483426",
     "status": "completed"
    },
    "tags": []
   },
   "outputs": [
    {
     "data": {
      "text/html": [
       "<div>\n",
       "<style scoped>\n",
       "    .dataframe tbody tr th:only-of-type {\n",
       "        vertical-align: middle;\n",
       "    }\n",
       "\n",
       "    .dataframe tbody tr th {\n",
       "        vertical-align: top;\n",
       "    }\n",
       "\n",
       "    .dataframe thead th {\n",
       "        text-align: right;\n",
       "    }\n",
       "</style>\n",
       "<table border=\"1\" class=\"dataframe\">\n",
       "  <thead>\n",
       "    <tr style=\"text-align: right;\">\n",
       "      <th></th>\n",
       "      <th>Item_Identifier</th>\n",
       "      <th>Item_Weight</th>\n",
       "      <th>Item_Fat_Content</th>\n",
       "      <th>Item_Visibility</th>\n",
       "      <th>Item_Type</th>\n",
       "      <th>Item_MRP</th>\n",
       "      <th>Outlet_Identifier</th>\n",
       "      <th>Outlet_Establishment_Year</th>\n",
       "      <th>Outlet_Size</th>\n",
       "      <th>Outlet_Location_Type</th>\n",
       "      <th>Outlet_Type</th>\n",
       "      <th>Item_Outlet_Sales</th>\n",
       "    </tr>\n",
       "  </thead>\n",
       "  <tbody>\n",
       "    <tr>\n",
       "      <th>0</th>\n",
       "      <td>FDA15</td>\n",
       "      <td>9.30</td>\n",
       "      <td>Low Fat</td>\n",
       "      <td>0.016047</td>\n",
       "      <td>Dairy</td>\n",
       "      <td>249.8092</td>\n",
       "      <td>OUT049</td>\n",
       "      <td>1999</td>\n",
       "      <td>Medium</td>\n",
       "      <td>Tier 1</td>\n",
       "      <td>Supermarket Type1</td>\n",
       "      <td>3735.1380</td>\n",
       "    </tr>\n",
       "    <tr>\n",
       "      <th>1</th>\n",
       "      <td>DRC01</td>\n",
       "      <td>5.92</td>\n",
       "      <td>Regular</td>\n",
       "      <td>0.019278</td>\n",
       "      <td>Soft Drinks</td>\n",
       "      <td>48.2692</td>\n",
       "      <td>OUT018</td>\n",
       "      <td>2009</td>\n",
       "      <td>Medium</td>\n",
       "      <td>Tier 3</td>\n",
       "      <td>Supermarket Type2</td>\n",
       "      <td>443.4228</td>\n",
       "    </tr>\n",
       "    <tr>\n",
       "      <th>2</th>\n",
       "      <td>FDN15</td>\n",
       "      <td>17.50</td>\n",
       "      <td>Low Fat</td>\n",
       "      <td>0.016760</td>\n",
       "      <td>Meat</td>\n",
       "      <td>141.6180</td>\n",
       "      <td>OUT049</td>\n",
       "      <td>1999</td>\n",
       "      <td>Medium</td>\n",
       "      <td>Tier 1</td>\n",
       "      <td>Supermarket Type1</td>\n",
       "      <td>2097.2700</td>\n",
       "    </tr>\n",
       "    <tr>\n",
       "      <th>3</th>\n",
       "      <td>FDX07</td>\n",
       "      <td>19.20</td>\n",
       "      <td>Regular</td>\n",
       "      <td>0.000000</td>\n",
       "      <td>Fruits and Vegetables</td>\n",
       "      <td>182.0950</td>\n",
       "      <td>OUT010</td>\n",
       "      <td>1998</td>\n",
       "      <td>NaN</td>\n",
       "      <td>Tier 3</td>\n",
       "      <td>Grocery Store</td>\n",
       "      <td>732.3800</td>\n",
       "    </tr>\n",
       "    <tr>\n",
       "      <th>4</th>\n",
       "      <td>NCD19</td>\n",
       "      <td>8.93</td>\n",
       "      <td>Low Fat</td>\n",
       "      <td>0.000000</td>\n",
       "      <td>Household</td>\n",
       "      <td>53.8614</td>\n",
       "      <td>OUT013</td>\n",
       "      <td>1987</td>\n",
       "      <td>High</td>\n",
       "      <td>Tier 3</td>\n",
       "      <td>Supermarket Type1</td>\n",
       "      <td>994.7052</td>\n",
       "    </tr>\n",
       "  </tbody>\n",
       "</table>\n",
       "</div>"
      ],
      "text/plain": [
       "  Item_Identifier  Item_Weight Item_Fat_Content  Item_Visibility  \\\n",
       "0           FDA15         9.30          Low Fat         0.016047   \n",
       "1           DRC01         5.92          Regular         0.019278   \n",
       "2           FDN15        17.50          Low Fat         0.016760   \n",
       "3           FDX07        19.20          Regular         0.000000   \n",
       "4           NCD19         8.93          Low Fat         0.000000   \n",
       "\n",
       "               Item_Type  Item_MRP Outlet_Identifier  \\\n",
       "0                  Dairy  249.8092            OUT049   \n",
       "1            Soft Drinks   48.2692            OUT018   \n",
       "2                   Meat  141.6180            OUT049   \n",
       "3  Fruits and Vegetables  182.0950            OUT010   \n",
       "4              Household   53.8614            OUT013   \n",
       "\n",
       "   Outlet_Establishment_Year Outlet_Size Outlet_Location_Type  \\\n",
       "0                       1999      Medium               Tier 1   \n",
       "1                       2009      Medium               Tier 3   \n",
       "2                       1999      Medium               Tier 1   \n",
       "3                       1998         NaN               Tier 3   \n",
       "4                       1987        High               Tier 3   \n",
       "\n",
       "         Outlet_Type  Item_Outlet_Sales  \n",
       "0  Supermarket Type1          3735.1380  \n",
       "1  Supermarket Type2           443.4228  \n",
       "2  Supermarket Type1          2097.2700  \n",
       "3      Grocery Store           732.3800  \n",
       "4  Supermarket Type1           994.7052  "
      ]
     },
     "execution_count": 3,
     "metadata": {},
     "output_type": "execute_result"
    }
   ],
   "source": [
    "# Loading the dataset\n",
    "sales_data = pd.read_csv('Train.csv')\n",
    "# Checking the first 5 rows of the dataframe\n",
    "sales_data.head()"
   ]
  },
  {
   "cell_type": "markdown",
   "id": "eae2c79d",
   "metadata": {
    "papermill": {
     "duration": 0.050983,
     "end_time": "2022-08-22T05:55:54.711047",
     "exception": false,
     "start_time": "2022-08-22T05:55:54.660064",
     "status": "completed"
    },
    "tags": []
   },
   "source": [
    "**It is important to note that Item_Outlet_Sales is the target variable which we are going to predict & the remaining are the feature variables**"
   ]
  },
  {
   "cell_type": "code",
   "execution_count": 4,
   "id": "55d7de11",
   "metadata": {
    "execution": {
     "iopub.execute_input": "2022-08-22T05:55:54.817154Z",
     "iopub.status.busy": "2022-08-22T05:55:54.816204Z",
     "iopub.status.idle": "2022-08-22T05:55:54.821313Z",
     "shell.execute_reply": "2022-08-22T05:55:54.821809Z",
     "shell.execute_reply.started": "2022-01-28T07:20:23.088080Z"
    },
    "papermill": {
     "duration": 0.059807,
     "end_time": "2022-08-22T05:55:54.822005",
     "exception": false,
     "start_time": "2022-08-22T05:55:54.762198",
     "status": "completed"
    },
    "tags": []
   },
   "outputs": [
    {
     "data": {
      "text/plain": [
       "(8523, 12)"
      ]
     },
     "execution_count": 4,
     "metadata": {},
     "output_type": "execute_result"
    }
   ],
   "source": [
    "# Checking the number of data points(different products present in the dataset) & number of features\n",
    "sales_data.shape"
   ]
  },
  {
   "cell_type": "markdown",
   "id": "6a10ef2f",
   "metadata": {
    "papermill": {
     "duration": 0.052309,
     "end_time": "2022-08-22T05:55:54.925701",
     "exception": false,
     "start_time": "2022-08-22T05:55:54.873392",
     "status": "completed"
    },
    "tags": []
   },
   "source": [
    "**Hence, we are having 8523 different products with 12 features**"
   ]
  },
  {
   "cell_type": "code",
   "execution_count": 5,
   "id": "c87edfaa",
   "metadata": {
    "execution": {
     "iopub.execute_input": "2022-08-22T05:55:55.034134Z",
     "iopub.status.busy": "2022-08-22T05:55:55.033454Z",
     "iopub.status.idle": "2022-08-22T05:55:55.063766Z",
     "shell.execute_reply": "2022-08-22T05:55:55.064648Z",
     "shell.execute_reply.started": "2022-01-28T07:20:24.037102Z"
    },
    "papermill": {
     "duration": 0.086983,
     "end_time": "2022-08-22T05:55:55.064903",
     "exception": false,
     "start_time": "2022-08-22T05:55:54.977920",
     "status": "completed"
    },
    "tags": []
   },
   "outputs": [
    {
     "name": "stdout",
     "output_type": "stream",
     "text": [
      "<class 'pandas.core.frame.DataFrame'>\n",
      "RangeIndex: 8523 entries, 0 to 8522\n",
      "Data columns (total 12 columns):\n",
      " #   Column                     Non-Null Count  Dtype  \n",
      "---  ------                     --------------  -----  \n",
      " 0   Item_Identifier            8523 non-null   object \n",
      " 1   Item_Weight                7060 non-null   float64\n",
      " 2   Item_Fat_Content           8523 non-null   object \n",
      " 3   Item_Visibility            8523 non-null   float64\n",
      " 4   Item_Type                  8523 non-null   object \n",
      " 5   Item_MRP                   8523 non-null   float64\n",
      " 6   Outlet_Identifier          8523 non-null   object \n",
      " 7   Outlet_Establishment_Year  8523 non-null   int64  \n",
      " 8   Outlet_Size                6113 non-null   object \n",
      " 9   Outlet_Location_Type       8523 non-null   object \n",
      " 10  Outlet_Type                8523 non-null   object \n",
      " 11  Item_Outlet_Sales          8523 non-null   float64\n",
      "dtypes: float64(4), int64(1), object(7)\n",
      "memory usage: 799.2+ KB\n"
     ]
    }
   ],
   "source": [
    "# Checking Datatype of features\n",
    "sales_data.info()"
   ]
  },
  {
   "cell_type": "markdown",
   "id": "a9522c1d",
   "metadata": {
    "papermill": {
     "duration": 0.055851,
     "end_time": "2022-08-22T05:55:55.178485",
     "exception": false,
     "start_time": "2022-08-22T05:55:55.122634",
     "status": "completed"
    },
    "tags": []
   },
   "source": [
    "**Categorical Features:**\n",
    "\n",
    "* Item_Identifier : categories of different products\n",
    "\n",
    "* Item_Fat_Content : It tells us whether it has high fat content or low fat content or \n",
    "  regular fat content\n",
    "\n",
    "* Item_Type : It tells us whether it has meat or soft drink & such kind of things\n",
    "\n",
    "* Outlet_Identifier : It tells us the unique ID of the outlet\n",
    "\n",
    "* Outlet_Size : it tells us whether it is medium,high or small in size\n",
    "\n",
    "* Outlet_Location_Type : It tells us whether it is tier 1 or tier 2 & such kind of things\n",
    "\n",
    "* Outlet_Type : It tells us whether it is supermarket or grocerry store"
   ]
  },
  {
   "cell_type": "code",
   "execution_count": 6,
   "id": "69184dd2",
   "metadata": {
    "execution": {
     "iopub.execute_input": "2022-08-22T05:55:55.307593Z",
     "iopub.status.busy": "2022-08-22T05:55:55.306643Z",
     "iopub.status.idle": "2022-08-22T05:55:55.312263Z",
     "shell.execute_reply": "2022-08-22T05:55:55.311618Z",
     "shell.execute_reply.started": "2022-01-28T07:20:25.004923Z"
    },
    "papermill": {
     "duration": 0.074885,
     "end_time": "2022-08-22T05:55:55.312418",
     "exception": false,
     "start_time": "2022-08-22T05:55:55.237533",
     "status": "completed"
    },
    "tags": []
   },
   "outputs": [
    {
     "data": {
      "text/plain": [
       "Item_Identifier                 0\n",
       "Item_Weight                  1463\n",
       "Item_Fat_Content                0\n",
       "Item_Visibility                 0\n",
       "Item_Type                       0\n",
       "Item_MRP                        0\n",
       "Outlet_Identifier               0\n",
       "Outlet_Establishment_Year       0\n",
       "Outlet_Size                  2410\n",
       "Outlet_Location_Type            0\n",
       "Outlet_Type                     0\n",
       "Item_Outlet_Sales               0\n",
       "dtype: int64"
      ]
     },
     "execution_count": 6,
     "metadata": {},
     "output_type": "execute_result"
    }
   ],
   "source": [
    "# Checking for missing values\n",
    "sales_data.isnull().sum()"
   ]
  },
  {
   "cell_type": "markdown",
   "id": "2abf4a39",
   "metadata": {
    "execution": {
     "iopub.execute_input": "2022-01-28T03:17:51.861924Z",
     "iopub.status.busy": "2022-01-28T03:17:51.861646Z",
     "iopub.status.idle": "2022-01-28T03:17:51.867982Z",
     "shell.execute_reply": "2022-01-28T03:17:51.867101Z",
     "shell.execute_reply.started": "2022-01-28T03:17:51.861896Z"
    },
    "papermill": {
     "duration": 0.058292,
     "end_time": "2022-08-22T05:55:55.426686",
     "exception": false,
     "start_time": "2022-08-22T05:55:55.368394",
     "status": "completed"
    },
    "tags": []
   },
   "source": [
    "We can observe that we are having 1463 missing values in the Item_Weight column & we are having about 2410 missing values in the Outlet_Size column"
   ]
  },
  {
   "cell_type": "markdown",
   "id": "0879b33c",
   "metadata": {
    "execution": {
     "iopub.execute_input": "2022-01-28T03:17:52.352031Z",
     "iopub.status.busy": "2022-01-28T03:17:52.351382Z",
     "iopub.status.idle": "2022-01-28T03:17:52.357665Z",
     "shell.execute_reply": "2022-01-28T03:17:52.356833Z",
     "shell.execute_reply.started": "2022-01-28T03:17:52.351989Z"
    },
    "papermill": {
     "duration": 0.053924,
     "end_time": "2022-08-22T05:55:55.533579",
     "exception": false,
     "start_time": "2022-08-22T05:55:55.479655",
     "status": "completed"
    },
    "tags": []
   },
   "source": [
    " \n",
    "**IN ORDER TO DEAL WITH THE MISSING VALUES**"
   ]
  },
  {
   "cell_type": "markdown",
   "id": "ad1a3ec3",
   "metadata": {
    "execution": {
     "iopub.execute_input": "2022-01-28T03:17:59.688381Z",
     "iopub.status.busy": "2022-01-28T03:17:59.688051Z",
     "iopub.status.idle": "2022-01-28T03:17:59.691880Z",
     "shell.execute_reply": "2022-01-28T03:17:59.691259Z",
     "shell.execute_reply.started": "2022-01-28T03:17:59.688344Z"
    },
    "papermill": {
     "duration": 0.053034,
     "end_time": "2022-08-22T05:55:55.641330",
     "exception": false,
     "start_time": "2022-08-22T05:55:55.588296",
     "status": "completed"
    },
    "tags": []
   },
   "source": [
    "**Mean --> average**\n",
    "\n",
    "* The Mean value of a dataset is the average value i.e. a number around which a whole data is spread out. All values used in calculating the average are weighted equally when defining the Mean\n",
    "\n",
    "* In this case, in order to convert the missing values in the numerical column, we use mean of that particular column\n",
    "\n",
    "**Mode --> most repeated value**\n",
    "\n",
    "* The mode is the value that appears most frequently in a data set. A set of data may have one mode, more than one mode, or no mode at all.The mode can be the same value as the mean and/or median, but this is usually not the case.\n",
    "\n",
    "* In this case, in order to convert the missing values in the categorical feature, we use the mode of that particular column"
   ]
  },
  {
   "cell_type": "markdown",
   "id": "09c9d3b2",
   "metadata": {
    "papermill": {
     "duration": 0.054278,
     "end_time": "2022-08-22T05:55:55.748417",
     "exception": false,
     "start_time": "2022-08-22T05:55:55.694139",
     "status": "completed"
    },
    "tags": []
   },
   "source": [
    "**Replacing the missing values in the \"Item_Weight\"column**"
   ]
  },
  {
   "cell_type": "code",
   "execution_count": 7,
   "id": "aa32272b",
   "metadata": {
    "execution": {
     "iopub.execute_input": "2022-08-22T05:55:55.863606Z",
     "iopub.status.busy": "2022-08-22T05:55:55.862471Z",
     "iopub.status.idle": "2022-08-22T05:55:55.866971Z",
     "shell.execute_reply": "2022-08-22T05:55:55.866415Z",
     "shell.execute_reply.started": "2022-01-28T07:20:27.421692Z"
    },
    "papermill": {
     "duration": 0.065543,
     "end_time": "2022-08-22T05:55:55.867134",
     "exception": false,
     "start_time": "2022-08-22T05:55:55.801591",
     "status": "completed"
    },
    "tags": []
   },
   "outputs": [
    {
     "data": {
      "text/plain": [
       "12.857645184135976"
      ]
     },
     "execution_count": 7,
     "metadata": {},
     "output_type": "execute_result"
    }
   ],
   "source": [
    "# Mean value of \"Item_Weight\" column\n",
    "sales_data['Item_Weight'].mean()"
   ]
  },
  {
   "cell_type": "code",
   "execution_count": 8,
   "id": "5e8714ad",
   "metadata": {
    "execution": {
     "iopub.execute_input": "2022-08-22T05:55:55.982681Z",
     "iopub.status.busy": "2022-08-22T05:55:55.979421Z",
     "iopub.status.idle": "2022-08-22T05:55:55.987053Z",
     "shell.execute_reply": "2022-08-22T05:55:55.986349Z",
     "shell.execute_reply.started": "2022-01-28T07:20:27.900279Z"
    },
    "papermill": {
     "duration": 0.066937,
     "end_time": "2022-08-22T05:55:55.987228",
     "exception": false,
     "start_time": "2022-08-22T05:55:55.920291",
     "status": "completed"
    },
    "tags": []
   },
   "outputs": [],
   "source": [
    "# Filling the missing values in \"Item_weight column\" with \"Mean\" value\n",
    "sales_data['Item_Weight'].fillna(sales_data['Item_Weight'].mean(), inplace=True)"
   ]
  },
  {
   "cell_type": "markdown",
   "id": "dd9e77e0",
   "metadata": {
    "papermill": {
     "duration": 0.052411,
     "end_time": "2022-08-22T05:55:56.094526",
     "exception": false,
     "start_time": "2022-08-22T05:55:56.042115",
     "status": "completed"
    },
    "tags": []
   },
   "source": [
    "**Replacing the missing values in the \"Outlet_Size\"column**"
   ]
  },
  {
   "cell_type": "code",
   "execution_count": 9,
   "id": "43af87d0",
   "metadata": {
    "execution": {
     "iopub.execute_input": "2022-08-22T05:55:56.209921Z",
     "iopub.status.busy": "2022-08-22T05:55:56.209212Z",
     "iopub.status.idle": "2022-08-22T05:55:56.212475Z",
     "shell.execute_reply": "2022-08-22T05:55:56.211817Z",
     "shell.execute_reply.started": "2022-01-28T07:20:28.831719Z"
    },
    "papermill": {
     "duration": 0.06557,
     "end_time": "2022-08-22T05:55:56.212623",
     "exception": false,
     "start_time": "2022-08-22T05:55:56.147053",
     "status": "completed"
    },
    "tags": []
   },
   "outputs": [
    {
     "data": {
      "text/plain": [
       "0    Medium\n",
       "Name: Outlet_Size, dtype: object"
      ]
     },
     "execution_count": 9,
     "metadata": {},
     "output_type": "execute_result"
    }
   ],
   "source": [
    "# Mode of \"Outlet_Size\" column\n",
    "sales_data['Outlet_Size'].mode()"
   ]
  },
  {
   "cell_type": "code",
   "execution_count": 10,
   "id": "c7bb3817",
   "metadata": {
    "execution": {
     "iopub.execute_input": "2022-08-22T05:55:56.331319Z",
     "iopub.status.busy": "2022-08-22T05:55:56.330603Z",
     "iopub.status.idle": "2022-08-22T05:55:56.346934Z",
     "shell.execute_reply": "2022-08-22T05:55:56.346229Z",
     "shell.execute_reply.started": "2022-01-28T07:20:29.343982Z"
    },
    "papermill": {
     "duration": 0.081627,
     "end_time": "2022-08-22T05:55:56.347105",
     "exception": false,
     "start_time": "2022-08-22T05:55:56.265478",
     "status": "completed"
    },
    "tags": []
   },
   "outputs": [],
   "source": [
    "# Filling the missing values in \"Outlet_Size\" column with Mode\n",
    "# Here we take Outlet_Size column & Outlet_Type column since they are correlated\n",
    "mode_of_Outlet_size = sales_data.pivot_table(values='Outlet_Size', columns='Outlet_Type', aggfunc=(lambda x: x.mode()[0]))"
   ]
  },
  {
   "cell_type": "code",
   "execution_count": 11,
   "id": "95edc95a",
   "metadata": {
    "execution": {
     "iopub.execute_input": "2022-08-22T05:55:56.469287Z",
     "iopub.status.busy": "2022-08-22T05:55:56.468078Z",
     "iopub.status.idle": "2022-08-22T05:55:56.474254Z",
     "shell.execute_reply": "2022-08-22T05:55:56.474792Z",
     "shell.execute_reply.started": "2022-01-28T07:20:29.807204Z"
    },
    "papermill": {
     "duration": 0.074469,
     "end_time": "2022-08-22T05:55:56.475025",
     "exception": false,
     "start_time": "2022-08-22T05:55:56.400556",
     "status": "completed"
    },
    "tags": []
   },
   "outputs": [
    {
     "data": {
      "text/html": [
       "<div>\n",
       "<style scoped>\n",
       "    .dataframe tbody tr th:only-of-type {\n",
       "        vertical-align: middle;\n",
       "    }\n",
       "\n",
       "    .dataframe tbody tr th {\n",
       "        vertical-align: top;\n",
       "    }\n",
       "\n",
       "    .dataframe thead th {\n",
       "        text-align: right;\n",
       "    }\n",
       "</style>\n",
       "<table border=\"1\" class=\"dataframe\">\n",
       "  <thead>\n",
       "    <tr style=\"text-align: right;\">\n",
       "      <th>Outlet_Type</th>\n",
       "      <th>Grocery Store</th>\n",
       "      <th>Supermarket Type1</th>\n",
       "      <th>Supermarket Type2</th>\n",
       "      <th>Supermarket Type3</th>\n",
       "    </tr>\n",
       "  </thead>\n",
       "  <tbody>\n",
       "    <tr>\n",
       "      <th>Outlet_Size</th>\n",
       "      <td>Small</td>\n",
       "      <td>Small</td>\n",
       "      <td>Medium</td>\n",
       "      <td>Medium</td>\n",
       "    </tr>\n",
       "  </tbody>\n",
       "</table>\n",
       "</div>"
      ],
      "text/plain": [
       "Outlet_Type Grocery Store Supermarket Type1 Supermarket Type2  \\\n",
       "Outlet_Size         Small             Small            Medium   \n",
       "\n",
       "Outlet_Type Supermarket Type3  \n",
       "Outlet_Size            Medium  "
      ]
     },
     "execution_count": 11,
     "metadata": {},
     "output_type": "execute_result"
    }
   ],
   "source": [
    "mode_of_Outlet_size"
   ]
  },
  {
   "cell_type": "markdown",
   "id": "391de05e",
   "metadata": {
    "papermill": {
     "duration": 0.052825,
     "end_time": "2022-08-22T05:55:56.582505",
     "exception": false,
     "start_time": "2022-08-22T05:55:56.529680",
     "status": "completed"
    },
    "tags": []
   },
   "source": [
    "From the above pivot table, we can observe that \n",
    "\n",
    "* If the outlet type is Grocery Store in most of the cases the outlet size(mode) is Small\n",
    "* If the outlet type is Supermarket Type1 in most of the cases the outlet size(mode) is Small\n",
    "* If the outlet type is Supermarket Type2 in most of the cases the outlet size(mode) is Medium\n",
    "* If the outlet type is Supermarket Type3 in most of the cases the outlet size(mode) is Medium"
   ]
  },
  {
   "cell_type": "code",
   "execution_count": 12,
   "id": "9b1dc819",
   "metadata": {
    "execution": {
     "iopub.execute_input": "2022-08-22T05:55:56.698810Z",
     "iopub.status.busy": "2022-08-22T05:55:56.698114Z",
     "iopub.status.idle": "2022-08-22T05:55:56.699860Z",
     "shell.execute_reply": "2022-08-22T05:55:56.700497Z",
     "shell.execute_reply.started": "2022-01-28T07:20:30.777672Z"
    },
    "papermill": {
     "duration": 0.062215,
     "end_time": "2022-08-22T05:55:56.700694",
     "exception": false,
     "start_time": "2022-08-22T05:55:56.638479",
     "status": "completed"
    },
    "tags": []
   },
   "outputs": [],
   "source": [
    "miss_values = sales_data['Outlet_Size'].isnull()"
   ]
  },
  {
   "cell_type": "code",
   "execution_count": 15,
   "id": "c33c0bed",
   "metadata": {
    "execution": {
     "iopub.execute_input": "2022-08-22T05:55:56.819629Z",
     "iopub.status.busy": "2022-08-22T05:55:56.818858Z",
     "iopub.status.idle": "2022-08-22T05:55:56.821828Z",
     "shell.execute_reply": "2022-08-22T05:55:56.822342Z",
     "shell.execute_reply.started": "2022-01-28T07:20:31.269232Z"
    },
    "papermill": {
     "duration": 0.066297,
     "end_time": "2022-08-22T05:55:56.822535",
     "exception": false,
     "start_time": "2022-08-22T05:55:56.756238",
     "status": "completed"
    },
    "tags": []
   },
   "outputs": [
    {
     "name": "stdout",
     "output_type": "stream",
     "text": [
      "2410\n"
     ]
    }
   ],
   "source": [
    "print(miss_values.sum())"
   ]
  },
  {
   "cell_type": "code",
   "execution_count": 16,
   "id": "6465579b",
   "metadata": {
    "execution": {
     "iopub.execute_input": "2022-08-22T05:55:57.047502Z",
     "iopub.status.busy": "2022-08-22T05:55:57.046803Z",
     "iopub.status.idle": "2022-08-22T05:55:57.126540Z",
     "shell.execute_reply": "2022-08-22T05:55:57.127103Z",
     "shell.execute_reply.started": "2022-01-28T07:20:32.180493Z"
    },
    "papermill": {
     "duration": 0.139123,
     "end_time": "2022-08-22T05:55:57.127295",
     "exception": false,
     "start_time": "2022-08-22T05:55:56.988172",
     "status": "completed"
    },
    "tags": []
   },
   "outputs": [],
   "source": [
    "sales_data.loc[miss_values, 'Outlet_Size'] = sales_data.loc[miss_values,'Outlet_Type'].apply(lambda x: mode_of_Outlet_size[x])"
   ]
  },
  {
   "cell_type": "code",
   "execution_count": 17,
   "id": "6f527705",
   "metadata": {
    "execution": {
     "iopub.execute_input": "2022-08-22T05:55:57.241780Z",
     "iopub.status.busy": "2022-08-22T05:55:57.241159Z",
     "iopub.status.idle": "2022-08-22T05:55:57.251069Z",
     "shell.execute_reply": "2022-08-22T05:55:57.251672Z",
     "shell.execute_reply.started": "2022-01-28T07:20:32.677162Z"
    },
    "papermill": {
     "duration": 0.067419,
     "end_time": "2022-08-22T05:55:57.251863",
     "exception": false,
     "start_time": "2022-08-22T05:55:57.184444",
     "status": "completed"
    },
    "tags": []
   },
   "outputs": [
    {
     "data": {
      "text/plain": [
       "Item_Identifier              0\n",
       "Item_Weight                  0\n",
       "Item_Fat_Content             0\n",
       "Item_Visibility              0\n",
       "Item_Type                    0\n",
       "Item_MRP                     0\n",
       "Outlet_Identifier            0\n",
       "Outlet_Establishment_Year    0\n",
       "Outlet_Size                  0\n",
       "Outlet_Location_Type         0\n",
       "Outlet_Type                  0\n",
       "Item_Outlet_Sales            0\n",
       "dtype: int64"
      ]
     },
     "execution_count": 17,
     "metadata": {},
     "output_type": "execute_result"
    }
   ],
   "source": [
    "# Checking for missing values again\n",
    "sales_data.isnull().sum()"
   ]
  },
  {
   "cell_type": "markdown",
   "id": "24362fec",
   "metadata": {
    "papermill": {
     "duration": 0.055127,
     "end_time": "2022-08-22T05:55:57.360819",
     "exception": false,
     "start_time": "2022-08-22T05:55:57.305692",
     "status": "completed"
    },
    "tags": []
   },
   "source": [
    "**Thus we don't have any missing values in a numerical column & a categorical column**"
   ]
  },
  {
   "cell_type": "code",
   "execution_count": 18,
   "id": "b17a60be",
   "metadata": {
    "execution": {
     "iopub.execute_input": "2022-08-22T05:55:57.591002Z",
     "iopub.status.busy": "2022-08-22T05:55:57.590010Z",
     "iopub.status.idle": "2022-08-22T05:55:57.620258Z",
     "shell.execute_reply": "2022-08-22T05:55:57.620802Z",
     "shell.execute_reply.started": "2022-01-28T07:20:34.156389Z"
    },
    "papermill": {
     "duration": 0.088919,
     "end_time": "2022-08-22T05:55:57.621010",
     "exception": false,
     "start_time": "2022-08-22T05:55:57.532091",
     "status": "completed"
    },
    "tags": []
   },
   "outputs": [
    {
     "data": {
      "text/html": [
       "<div>\n",
       "<style scoped>\n",
       "    .dataframe tbody tr th:only-of-type {\n",
       "        vertical-align: middle;\n",
       "    }\n",
       "\n",
       "    .dataframe tbody tr th {\n",
       "        vertical-align: top;\n",
       "    }\n",
       "\n",
       "    .dataframe thead th {\n",
       "        text-align: right;\n",
       "    }\n",
       "</style>\n",
       "<table border=\"1\" class=\"dataframe\">\n",
       "  <thead>\n",
       "    <tr style=\"text-align: right;\">\n",
       "      <th></th>\n",
       "      <th>Item_Weight</th>\n",
       "      <th>Item_Visibility</th>\n",
       "      <th>Item_MRP</th>\n",
       "      <th>Outlet_Establishment_Year</th>\n",
       "      <th>Item_Outlet_Sales</th>\n",
       "    </tr>\n",
       "  </thead>\n",
       "  <tbody>\n",
       "    <tr>\n",
       "      <th>count</th>\n",
       "      <td>8523.000000</td>\n",
       "      <td>8523.000000</td>\n",
       "      <td>8523.000000</td>\n",
       "      <td>8523.000000</td>\n",
       "      <td>8523.000000</td>\n",
       "    </tr>\n",
       "    <tr>\n",
       "      <th>mean</th>\n",
       "      <td>12.857645</td>\n",
       "      <td>0.066132</td>\n",
       "      <td>140.992782</td>\n",
       "      <td>1997.831867</td>\n",
       "      <td>2181.288914</td>\n",
       "    </tr>\n",
       "    <tr>\n",
       "      <th>std</th>\n",
       "      <td>4.226124</td>\n",
       "      <td>0.051598</td>\n",
       "      <td>62.275067</td>\n",
       "      <td>8.371760</td>\n",
       "      <td>1706.499616</td>\n",
       "    </tr>\n",
       "    <tr>\n",
       "      <th>min</th>\n",
       "      <td>4.555000</td>\n",
       "      <td>0.000000</td>\n",
       "      <td>31.290000</td>\n",
       "      <td>1985.000000</td>\n",
       "      <td>33.290000</td>\n",
       "    </tr>\n",
       "    <tr>\n",
       "      <th>25%</th>\n",
       "      <td>9.310000</td>\n",
       "      <td>0.026989</td>\n",
       "      <td>93.826500</td>\n",
       "      <td>1987.000000</td>\n",
       "      <td>834.247400</td>\n",
       "    </tr>\n",
       "    <tr>\n",
       "      <th>50%</th>\n",
       "      <td>12.857645</td>\n",
       "      <td>0.053931</td>\n",
       "      <td>143.012800</td>\n",
       "      <td>1999.000000</td>\n",
       "      <td>1794.331000</td>\n",
       "    </tr>\n",
       "    <tr>\n",
       "      <th>75%</th>\n",
       "      <td>16.000000</td>\n",
       "      <td>0.094585</td>\n",
       "      <td>185.643700</td>\n",
       "      <td>2004.000000</td>\n",
       "      <td>3101.296400</td>\n",
       "    </tr>\n",
       "    <tr>\n",
       "      <th>max</th>\n",
       "      <td>21.350000</td>\n",
       "      <td>0.328391</td>\n",
       "      <td>266.888400</td>\n",
       "      <td>2009.000000</td>\n",
       "      <td>13086.964800</td>\n",
       "    </tr>\n",
       "  </tbody>\n",
       "</table>\n",
       "</div>"
      ],
      "text/plain": [
       "       Item_Weight  Item_Visibility     Item_MRP  Outlet_Establishment_Year  \\\n",
       "count  8523.000000      8523.000000  8523.000000                8523.000000   \n",
       "mean     12.857645         0.066132   140.992782                1997.831867   \n",
       "std       4.226124         0.051598    62.275067                   8.371760   \n",
       "min       4.555000         0.000000    31.290000                1985.000000   \n",
       "25%       9.310000         0.026989    93.826500                1987.000000   \n",
       "50%      12.857645         0.053931   143.012800                1999.000000   \n",
       "75%      16.000000         0.094585   185.643700                2004.000000   \n",
       "max      21.350000         0.328391   266.888400                2009.000000   \n",
       "\n",
       "       Item_Outlet_Sales  \n",
       "count        8523.000000  \n",
       "mean         2181.288914  \n",
       "std          1706.499616  \n",
       "min            33.290000  \n",
       "25%           834.247400  \n",
       "50%          1794.331000  \n",
       "75%          3101.296400  \n",
       "max         13086.964800  "
      ]
     },
     "execution_count": 18,
     "metadata": {},
     "output_type": "execute_result"
    }
   ],
   "source": [
    "# Statistical description of dataset\n",
    "sales_data.describe()"
   ]
  },
  {
   "cell_type": "markdown",
   "id": "150f4af3",
   "metadata": {},
   "source": [
    "## 3. Data Visualization & Preprocessing:"
   ]
  },
  {
   "cell_type": "markdown",
   "id": "c822ded5",
   "metadata": {
    "papermill": {
     "duration": 0.055088,
     "end_time": "2022-08-22T05:55:57.845350",
     "exception": false,
     "start_time": "2022-08-22T05:55:57.790262",
     "status": "completed"
    },
    "tags": []
   },
   "source": [
    "### 3.1 VISUALIZATION OF NUMERICAL FEATURES:"
   ]
  },
  {
   "cell_type": "code",
   "execution_count": 19,
   "id": "82e958cb",
   "metadata": {
    "execution": {
     "iopub.execute_input": "2022-08-22T05:55:57.961161Z",
     "iopub.status.busy": "2022-08-22T05:55:57.960476Z",
     "iopub.status.idle": "2022-08-22T05:55:57.965017Z",
     "shell.execute_reply": "2022-08-22T05:55:57.965527Z",
     "shell.execute_reply.started": "2022-01-28T07:20:35.859000Z"
    },
    "papermill": {
     "duration": 0.063875,
     "end_time": "2022-08-22T05:55:57.965723",
     "exception": false,
     "start_time": "2022-08-22T05:55:57.901848",
     "status": "completed"
    },
    "tags": []
   },
   "outputs": [],
   "source": [
    "sns.set()"
   ]
  },
  {
   "cell_type": "code",
   "execution_count": 20,
   "id": "57137f5f",
   "metadata": {
    "execution": {
     "iopub.execute_input": "2022-08-22T05:55:58.087596Z",
     "iopub.status.busy": "2022-08-22T05:55:58.086584Z",
     "iopub.status.idle": "2022-08-22T05:55:58.464851Z",
     "shell.execute_reply": "2022-08-22T05:55:58.464173Z",
     "shell.execute_reply.started": "2022-01-28T07:20:36.420410Z"
    },
    "papermill": {
     "duration": 0.43901,
     "end_time": "2022-08-22T05:55:58.465042",
     "exception": false,
     "start_time": "2022-08-22T05:55:58.026032",
     "status": "completed"
    },
    "tags": []
   },
   "outputs": [
    {
     "name": "stderr",
     "output_type": "stream",
     "text": [
      "/tmp/ipykernel_27362/3142207219.py:3: UserWarning: \n",
      "\n",
      "`distplot` is a deprecated function and will be removed in seaborn v0.14.0.\n",
      "\n",
      "Please adapt your code to use either `displot` (a figure-level function with\n",
      "similar flexibility) or `histplot` (an axes-level function for histograms).\n",
      "\n",
      "For a guide to updating your code to use the new functions, please see\n",
      "https://gist.github.com/mwaskom/de44147ed2974457ad6372750bbe5751\n",
      "\n",
      "  sns.distplot(sales_data['Item_Weight'], color='purple')\n"
     ]
    },
    {
     "data": {
      "image/png": "[encoded data removed]",
      "text/plain": [
       "<Figure size 640x480 with 1 Axes>"
      ]
     },
     "metadata": {},
     "output_type": "display_data"
    }
   ],
   "source": [
    "# Item_Weight distribution\n",
    "# plt.figure(figsize=(5,5))\n",
    "sns.distplot(sales_data['Item_Weight'], color='purple')\n",
    "plt.show()"
   ]
  },
  {
   "cell_type": "markdown",
   "id": "ede6213d",
   "metadata": {
    "papermill": {
     "duration": 0.060042,
     "end_time": "2022-08-22T05:55:58.583931",
     "exception": false,
     "start_time": "2022-08-22T05:55:58.523889",
     "status": "completed"
    },
    "tags": []
   },
   "source": [
    "* Hence from the above graph we can observe that we have the item weight from 5 Kg to 20 Kg & we have maximum values around 12 Kg where the mean is 12.85 Kg\n",
    "\n",
    "* Therefore in this 8523 products the average weight is about 12.8 Kg"
   ]
  },
  {
   "cell_type": "code",
   "execution_count": 21,
   "id": "ecd169ba",
   "metadata": {
    "execution": {
     "iopub.execute_input": "2022-08-22T05:55:58.711697Z",
     "iopub.status.busy": "2022-08-22T05:55:58.711012Z",
     "iopub.status.idle": "2022-08-22T05:55:59.072212Z",
     "shell.execute_reply": "2022-08-22T05:55:59.071612Z",
     "shell.execute_reply.started": "2022-01-28T07:20:37.567168Z"
    },
    "papermill": {
     "duration": 0.430938,
     "end_time": "2022-08-22T05:55:59.072376",
     "exception": false,
     "start_time": "2022-08-22T05:55:58.641438",
     "status": "completed"
    },
    "tags": []
   },
   "outputs": [
    {
     "name": "stderr",
     "output_type": "stream",
     "text": [
      "/tmp/ipykernel_27362/720811316.py:3: UserWarning: \n",
      "\n",
      "`distplot` is a deprecated function and will be removed in seaborn v0.14.0.\n",
      "\n",
      "Please adapt your code to use either `displot` (a figure-level function with\n",
      "similar flexibility) or `histplot` (an axes-level function for histograms).\n",
      "\n",
      "For a guide to updating your code to use the new functions, please see\n",
      "https://gist.github.com/mwaskom/de44147ed2974457ad6372750bbe5751\n",
      "\n",
      "  sns.distplot(sales_data['Item_Visibility'], color='purple')\n"
     ]
    },
    {
     "data": {
      "image/png": "[encoded data removed]",
      "text/plain": [
       "<Figure size 640x480 with 1 Axes>"
      ]
     },
     "metadata": {},
     "output_type": "display_data"
    }
   ],
   "source": [
    "# Item Visibility distribution\n",
    "# plt.figure(figsize=(5,5))\n",
    "sns.distplot(sales_data['Item_Visibility'], color='purple')\n",
    "plt.show()"
   ]
  },
  {
   "cell_type": "markdown",
   "id": "374fd9b5",
   "metadata": {
    "papermill": {
     "duration": 0.059103,
     "end_time": "2022-08-22T05:55:59.189621",
     "exception": false,
     "start_time": "2022-08-22T05:55:59.130518",
     "status": "completed"
    },
    "tags": []
   },
   "source": [
    "* Hence from the above graph we can observe that Item_Visibility feature is positively skewed"
   ]
  },
  {
   "cell_type": "code",
   "execution_count": 22,
   "id": "d859a770",
   "metadata": {
    "execution": {
     "iopub.execute_input": "2022-08-22T05:55:59.322536Z",
     "iopub.status.busy": "2022-08-22T05:55:59.321756Z",
     "iopub.status.idle": "2022-08-22T05:55:59.583327Z",
     "shell.execute_reply": "2022-08-22T05:55:59.583902Z",
     "shell.execute_reply.started": "2022-01-28T07:20:38.603603Z"
    },
    "papermill": {
     "duration": 0.337321,
     "end_time": "2022-08-22T05:55:59.584122",
     "exception": false,
     "start_time": "2022-08-22T05:55:59.246801",
     "status": "completed"
    },
    "tags": []
   },
   "outputs": [
    {
     "name": "stderr",
     "output_type": "stream",
     "text": [
      "/tmp/ipykernel_27362/347353738.py:3: UserWarning: \n",
      "\n",
      "`distplot` is a deprecated function and will be removed in seaborn v0.14.0.\n",
      "\n",
      "Please adapt your code to use either `displot` (a figure-level function with\n",
      "similar flexibility) or `histplot` (an axes-level function for histograms).\n",
      "\n",
      "For a guide to updating your code to use the new functions, please see\n",
      "https://gist.github.com/mwaskom/de44147ed2974457ad6372750bbe5751\n",
      "\n",
      "  sns.distplot(sales_data['Item_MRP'], color='purple')\n"
     ]
    },
    {
     "data": {
      "image/png": "[encoded data removed]",
      "text/plain": [
       "<Figure size 640x480 with 1 Axes>"
      ]
     },
     "metadata": {},
     "output_type": "display_data"
    }
   ],
   "source": [
    "# Item MRP distribution\n",
    "# plt.figure(figsize=(5,5))\n",
    "sns.distplot(sales_data['Item_MRP'], color='purple')\n",
    "plt.show()"
   ]
  },
  {
   "cell_type": "markdown",
   "id": "ddf9b803",
   "metadata": {
    "papermill": {
     "duration": 0.059031,
     "end_time": "2022-08-22T05:55:59.701667",
     "exception": false,
     "start_time": "2022-08-22T05:55:59.642636",
     "status": "completed"
    },
    "tags": []
   },
   "source": [
    "* From the above graph, we can observe that we have good amount of products for 50 MRP,  100 MRP ,200 MRP & then we have less products \n",
    "\n",
    "* Hence we have more products in the range of 100 MRP - 180 MRP"
   ]
  },
  {
   "cell_type": "code",
   "execution_count": 23,
   "id": "a3af3559",
   "metadata": {
    "execution": {
     "iopub.execute_input": "2022-08-22T05:55:59.834107Z",
     "iopub.status.busy": "2022-08-22T05:55:59.833282Z",
     "iopub.status.idle": "2022-08-22T05:56:00.167020Z",
     "shell.execute_reply": "2022-08-22T05:56:00.166294Z",
     "shell.execute_reply.started": "2022-01-28T07:20:39.783287Z"
    },
    "papermill": {
     "duration": 0.407435,
     "end_time": "2022-08-22T05:56:00.167194",
     "exception": false,
     "start_time": "2022-08-22T05:55:59.759759",
     "status": "completed"
    },
    "tags": []
   },
   "outputs": [
    {
     "name": "stderr",
     "output_type": "stream",
     "text": [
      "/tmp/ipykernel_27362/932765453.py:3: UserWarning: \n",
      "\n",
      "`distplot` is a deprecated function and will be removed in seaborn v0.14.0.\n",
      "\n",
      "Please adapt your code to use either `displot` (a figure-level function with\n",
      "similar flexibility) or `histplot` (an axes-level function for histograms).\n",
      "\n",
      "For a guide to updating your code to use the new functions, please see\n",
      "https://gist.github.com/mwaskom/de44147ed2974457ad6372750bbe5751\n",
      "\n",
      "  sns.distplot(sales_data['Item_Outlet_Sales'], color='purple')\n"
     ]
    },
    {
     "data": {
      "image/png": "[encoded data removed]",
      "text/plain": [
       "<Figure size 640x480 with 1 Axes>"
      ]
     },
     "metadata": {},
     "output_type": "display_data"
    }
   ],
   "source": [
    "# Item_Outlet_Sales distribution\n",
    "# plt.figure(figsize=(5,5))\n",
    "sns.distplot(sales_data['Item_Outlet_Sales'], color='purple')\n",
    "plt.show()"
   ]
  },
  {
   "cell_type": "markdown",
   "id": "19de342d",
   "metadata": {
    "papermill": {
     "duration": 0.061307,
     "end_time": "2022-08-22T05:56:00.293440",
     "exception": false,
     "start_time": "2022-08-22T05:56:00.232133",
     "status": "completed"
    },
    "tags": []
   },
   "source": [
    "* Hence from the above graph we can observe that Item_Outlet_Sales feature is positively skewed"
   ]
  },
  {
   "cell_type": "code",
   "execution_count": 24,
   "id": "0b842d3d",
   "metadata": {
    "execution": {
     "iopub.execute_input": "2022-08-22T05:56:00.422628Z",
     "iopub.status.busy": "2022-08-22T05:56:00.421843Z",
     "iopub.status.idle": "2022-08-22T05:56:00.616638Z",
     "shell.execute_reply": "2022-08-22T05:56:00.617164Z",
     "shell.execute_reply.started": "2022-01-28T07:20:40.890239Z"
    },
    "papermill": {
     "duration": 0.263586,
     "end_time": "2022-08-22T05:56:00.617383",
     "exception": false,
     "start_time": "2022-08-22T05:56:00.353797",
     "status": "completed"
    },
    "tags": []
   },
   "outputs": [
    {
     "data": {
      "image/png": "[encoded data removed]",
      "text/plain": [
       "<Figure size 640x480 with 1 Axes>"
      ]
     },
     "metadata": {},
     "output_type": "display_data"
    }
   ],
   "source": [
    "# Outlet_Establishment_Year column\n",
    "# plt.figure(figsize=(5,5))\n",
    "sns.countplot(x='Outlet_Establishment_Year', data=sales_data)\n",
    "plt.show()"
   ]
  },
  {
   "cell_type": "markdown",
   "id": "f3a0e091",
   "metadata": {
    "papermill": {
     "duration": 0.060863,
     "end_time": "2022-08-22T05:56:00.740056",
     "exception": false,
     "start_time": "2022-08-22T05:56:00.679193",
     "status": "completed"
    },
    "tags": []
   },
   "source": [
    "* Hence from the above graph we can observe that we have the outlet establishment from the year 1985, 1987 and all the way to 2009 \n",
    "\n",
    "* Therefore these are the years on which different outlets or different stores have been established \n",
    "\n",
    "* We can also observe that a lots of stores are established in the year 1985 & less in the year 1998 & all the others years are almost same"
   ]
  },
  {
   "cell_type": "markdown",
   "id": "44ecbafb",
   "metadata": {
    "papermill": {
     "duration": 0.061882,
     "end_time": "2022-08-22T05:56:00.863011",
     "exception": false,
     "start_time": "2022-08-22T05:56:00.801129",
     "status": "completed"
    },
    "tags": []
   },
   "source": [
    "## 3.2 VISUALIZATION OF CATEGORICAL FEATURES:"
   ]
  },
  {
   "cell_type": "code",
   "execution_count": 25,
   "id": "0fb15ce1",
   "metadata": {
    "execution": {
     "iopub.execute_input": "2022-08-22T05:56:00.992178Z",
     "iopub.status.busy": "2022-08-22T05:56:00.989689Z",
     "iopub.status.idle": "2022-08-22T05:56:01.146803Z",
     "shell.execute_reply": "2022-08-22T05:56:01.148125Z",
     "shell.execute_reply.started": "2022-01-28T07:20:42.504509Z"
    },
    "papermill": {
     "duration": 0.224303,
     "end_time": "2022-08-22T05:56:01.148492",
     "exception": false,
     "start_time": "2022-08-22T05:56:00.924189",
     "status": "completed"
    },
    "tags": []
   },
   "outputs": [
    {
     "data": {
      "image/png": "[encoded data removed]",
      "text/plain": [
       "<Figure size 640x480 with 1 Axes>"
      ]
     },
     "metadata": {},
     "output_type": "display_data"
    }
   ],
   "source": [
    "# Item_Fat_Content column\n",
    "# plt.figure(figsize=(5,5))\n",
    "sns.countplot(x='Item_Fat_Content', data=sales_data)\n",
    "plt.show()"
   ]
  },
  {
   "cell_type": "markdown",
   "id": "0492d08e",
   "metadata": {
    "papermill": {
     "duration": 0.060841,
     "end_time": "2022-08-22T05:56:01.279763",
     "exception": false,
     "start_time": "2022-08-22T05:56:01.218922",
     "status": "completed"
    },
    "tags": []
   },
   "source": [
    "* From the above graph we can observe that the data in the Item_Fat_Content column has to be cleaned since we have columns such as Low fat,low fat & Lf which is same & must be put into a single particular label.Similarly we have Regular & reg where we need to put this into a single entity.\n",
    "\n",
    "* Hence, we need to pre process this data so we will be dealing with this in a later point of time after the visualization of the data"
   ]
  },
  {
   "cell_type": "code",
   "execution_count": 26,
   "id": "d00dd3ab",
   "metadata": {
    "execution": {
     "iopub.execute_input": "2022-08-22T05:56:01.405169Z",
     "iopub.status.busy": "2022-08-22T05:56:01.404394Z",
     "iopub.status.idle": "2022-08-22T05:56:01.938542Z",
     "shell.execute_reply": "2022-08-22T05:56:01.937533Z",
     "shell.execute_reply.started": "2022-01-28T07:20:43.474998Z"
    },
    "papermill": {
     "duration": 0.598286,
     "end_time": "2022-08-22T05:56:01.938811",
     "exception": false,
     "start_time": "2022-08-22T05:56:01.340525",
     "status": "completed"
    },
    "tags": []
   },
   "outputs": [
    {
     "data": {
      "image/png": "[encoded data removed]",
      "text/plain": [
       "<Figure size 2500x700 with 1 Axes>"
      ]
     },
     "metadata": {},
     "output_type": "display_data"
    }
   ],
   "source": [
    "# Item_Type column\n",
    "plt.figure(figsize=(25,7))\n",
    "sns.countplot(x='Item_Type', data=sales_data)\n",
    "plt.show()"
   ]
  },
  {
   "cell_type": "markdown",
   "id": "69b9b8c8",
   "metadata": {
    "papermill": {
     "duration": 0.063117,
     "end_time": "2022-08-22T05:56:02.079831",
     "exception": false,
     "start_time": "2022-08-22T05:56:02.016714",
     "status": "completed"
    },
    "tags": []
   },
   "source": [
    "* From the above graph we can observe the different items or food types we have such as dairy, soft drinks, meat, fruits & vegetables, household etc \n",
    "\n",
    "* Hence totally we have about 16 Item_Type values in this case where we have more values in the fruits & vegetables column and snack foods column"
   ]
  },
  {
   "cell_type": "code",
   "execution_count": 27,
   "id": "72cf0d81",
   "metadata": {
    "execution": {
     "iopub.execute_input": "2022-08-22T05:56:02.210372Z",
     "iopub.status.busy": "2022-08-22T05:56:02.209581Z",
     "iopub.status.idle": "2022-08-22T05:56:02.409304Z",
     "shell.execute_reply": "2022-08-22T05:56:02.409806Z",
     "shell.execute_reply.started": "2022-01-28T07:20:44.486503Z"
    },
    "papermill": {
     "duration": 0.265483,
     "end_time": "2022-08-22T05:56:02.410023",
     "exception": false,
     "start_time": "2022-08-22T05:56:02.144540",
     "status": "completed"
    },
    "tags": []
   },
   "outputs": [
    {
     "data": {
      "image/png": "[encoded data removed]",
      "text/plain": [
       "<Figure size 640x480 with 1 Axes>"
      ]
     },
     "metadata": {},
     "output_type": "display_data"
    }
   ],
   "source": [
    "# Outlet_Size column\n",
    "#plt.figure(figsize=(5,5))\n",
    "sns.countplot(x='Outlet_Size', data=sales_data)\n",
    "plt.show()"
   ]
  },
  {
   "cell_type": "markdown",
   "id": "dd8eede7",
   "metadata": {
    "papermill": {
     "duration": 0.065267,
     "end_time": "2022-08-22T05:56:02.544278",
     "exception": false,
     "start_time": "2022-08-22T05:56:02.479011",
     "status": "completed"
    },
    "tags": []
   },
   "source": [
    "* From the above graph, we can observe that we have three outlet_Size in this case which is medium, small & high"
   ]
  },
  {
   "cell_type": "markdown",
   "id": "6b2445d1",
   "metadata": {
    "papermill": {
     "duration": 0.063029,
     "end_time": "2022-08-22T05:56:02.672324",
     "exception": false,
     "start_time": "2022-08-22T05:56:02.609295",
     "status": "completed"
    },
    "tags": []
   },
   "source": [
    "## 3.3 PREPROCESSING OF DATA:"
   ]
  },
  {
   "cell_type": "code",
   "execution_count": 28,
   "id": "d30dd9d8",
   "metadata": {
    "execution": {
     "iopub.execute_input": "2022-08-22T05:56:02.802182Z",
     "iopub.status.busy": "2022-08-22T05:56:02.801384Z",
     "iopub.status.idle": "2022-08-22T05:56:02.818842Z",
     "shell.execute_reply": "2022-08-22T05:56:02.819452Z",
     "shell.execute_reply.started": "2022-01-28T07:20:46.142664Z"
    },
    "papermill": {
     "duration": 0.084446,
     "end_time": "2022-08-22T05:56:02.819673",
     "exception": false,
     "start_time": "2022-08-22T05:56:02.735227",
     "status": "completed"
    },
    "tags": []
   },
   "outputs": [
    {
     "data": {
      "text/html": [
       "<div>\n",
       "<style scoped>\n",
       "    .dataframe tbody tr th:only-of-type {\n",
       "        vertical-align: middle;\n",
       "    }\n",
       "\n",
       "    .dataframe tbody tr th {\n",
       "        vertical-align: top;\n",
       "    }\n",
       "\n",
       "    .dataframe thead th {\n",
       "        text-align: right;\n",
       "    }\n",
       "</style>\n",
       "<table border=\"1\" class=\"dataframe\">\n",
       "  <thead>\n",
       "    <tr style=\"text-align: right;\">\n",
       "      <th></th>\n",
       "      <th>Item_Identifier</th>\n",
       "      <th>Item_Weight</th>\n",
       "      <th>Item_Fat_Content</th>\n",
       "      <th>Item_Visibility</th>\n",
       "      <th>Item_Type</th>\n",
       "      <th>Item_MRP</th>\n",
       "      <th>Outlet_Identifier</th>\n",
       "      <th>Outlet_Establishment_Year</th>\n",
       "      <th>Outlet_Size</th>\n",
       "      <th>Outlet_Location_Type</th>\n",
       "      <th>Outlet_Type</th>\n",
       "      <th>Item_Outlet_Sales</th>\n",
       "    </tr>\n",
       "  </thead>\n",
       "  <tbody>\n",
       "    <tr>\n",
       "      <th>0</th>\n",
       "      <td>FDA15</td>\n",
       "      <td>9.30</td>\n",
       "      <td>Low Fat</td>\n",
       "      <td>0.016047</td>\n",
       "      <td>Dairy</td>\n",
       "      <td>249.8092</td>\n",
       "      <td>OUT049</td>\n",
       "      <td>1999</td>\n",
       "      <td>Medium</td>\n",
       "      <td>Tier 1</td>\n",
       "      <td>Supermarket Type1</td>\n",
       "      <td>3735.1380</td>\n",
       "    </tr>\n",
       "    <tr>\n",
       "      <th>1</th>\n",
       "      <td>DRC01</td>\n",
       "      <td>5.92</td>\n",
       "      <td>Regular</td>\n",
       "      <td>0.019278</td>\n",
       "      <td>Soft Drinks</td>\n",
       "      <td>48.2692</td>\n",
       "      <td>OUT018</td>\n",
       "      <td>2009</td>\n",
       "      <td>Medium</td>\n",
       "      <td>Tier 3</td>\n",
       "      <td>Supermarket Type2</td>\n",
       "      <td>443.4228</td>\n",
       "    </tr>\n",
       "    <tr>\n",
       "      <th>2</th>\n",
       "      <td>FDN15</td>\n",
       "      <td>17.50</td>\n",
       "      <td>Low Fat</td>\n",
       "      <td>0.016760</td>\n",
       "      <td>Meat</td>\n",
       "      <td>141.6180</td>\n",
       "      <td>OUT049</td>\n",
       "      <td>1999</td>\n",
       "      <td>Medium</td>\n",
       "      <td>Tier 1</td>\n",
       "      <td>Supermarket Type1</td>\n",
       "      <td>2097.2700</td>\n",
       "    </tr>\n",
       "    <tr>\n",
       "      <th>3</th>\n",
       "      <td>FDX07</td>\n",
       "      <td>19.20</td>\n",
       "      <td>Regular</td>\n",
       "      <td>0.000000</td>\n",
       "      <td>Fruits and Vegetables</td>\n",
       "      <td>182.0950</td>\n",
       "      <td>OUT010</td>\n",
       "      <td>1998</td>\n",
       "      <td>Small</td>\n",
       "      <td>Tier 3</td>\n",
       "      <td>Grocery Store</td>\n",
       "      <td>732.3800</td>\n",
       "    </tr>\n",
       "    <tr>\n",
       "      <th>4</th>\n",
       "      <td>NCD19</td>\n",
       "      <td>8.93</td>\n",
       "      <td>Low Fat</td>\n",
       "      <td>0.000000</td>\n",
       "      <td>Household</td>\n",
       "      <td>53.8614</td>\n",
       "      <td>OUT013</td>\n",
       "      <td>1987</td>\n",
       "      <td>High</td>\n",
       "      <td>Tier 3</td>\n",
       "      <td>Supermarket Type1</td>\n",
       "      <td>994.7052</td>\n",
       "    </tr>\n",
       "  </tbody>\n",
       "</table>\n",
       "</div>"
      ],
      "text/plain": [
       "  Item_Identifier  Item_Weight Item_Fat_Content  Item_Visibility  \\\n",
       "0           FDA15         9.30          Low Fat         0.016047   \n",
       "1           DRC01         5.92          Regular         0.019278   \n",
       "2           FDN15        17.50          Low Fat         0.016760   \n",
       "3           FDX07        19.20          Regular         0.000000   \n",
       "4           NCD19         8.93          Low Fat         0.000000   \n",
       "\n",
       "               Item_Type  Item_MRP Outlet_Identifier  \\\n",
       "0                  Dairy  249.8092            OUT049   \n",
       "1            Soft Drinks   48.2692            OUT018   \n",
       "2                   Meat  141.6180            OUT049   \n",
       "3  Fruits and Vegetables  182.0950            OUT010   \n",
       "4              Household   53.8614            OUT013   \n",
       "\n",
       "   Outlet_Establishment_Year Outlet_Size Outlet_Location_Type  \\\n",
       "0                       1999      Medium               Tier 1   \n",
       "1                       2009      Medium               Tier 3   \n",
       "2                       1999      Medium               Tier 1   \n",
       "3                       1998       Small               Tier 3   \n",
       "4                       1987        High               Tier 3   \n",
       "\n",
       "         Outlet_Type  Item_Outlet_Sales  \n",
       "0  Supermarket Type1          3735.1380  \n",
       "1  Supermarket Type2           443.4228  \n",
       "2  Supermarket Type1          2097.2700  \n",
       "3      Grocery Store           732.3800  \n",
       "4  Supermarket Type1           994.7052  "
      ]
     },
     "execution_count": 28,
     "metadata": {},
     "output_type": "execute_result"
    }
   ],
   "source": [
    "sales_data.head()"
   ]
  },
  {
   "cell_type": "code",
   "execution_count": 29,
   "id": "0108c7ac",
   "metadata": {
    "execution": {
     "iopub.execute_input": "2022-08-22T05:56:02.951530Z",
     "iopub.status.busy": "2022-08-22T05:56:02.950815Z",
     "iopub.status.idle": "2022-08-22T05:56:02.958897Z",
     "shell.execute_reply": "2022-08-22T05:56:02.958366Z",
     "shell.execute_reply.started": "2022-01-28T07:20:46.668037Z"
    },
    "papermill": {
     "duration": 0.074949,
     "end_time": "2022-08-22T05:56:02.959067",
     "exception": false,
     "start_time": "2022-08-22T05:56:02.884118",
     "status": "completed"
    },
    "tags": []
   },
   "outputs": [
    {
     "data": {
      "text/plain": [
       "Low Fat    5089\n",
       "Regular    2889\n",
       "LF          316\n",
       "reg         117\n",
       "low fat     112\n",
       "Name: Item_Fat_Content, dtype: int64"
      ]
     },
     "execution_count": 29,
     "metadata": {},
     "output_type": "execute_result"
    }
   ],
   "source": [
    "sales_data['Item_Fat_Content'].value_counts()"
   ]
  },
  {
   "cell_type": "code",
   "execution_count": 30,
   "id": "badcf55c",
   "metadata": {
    "execution": {
     "iopub.execute_input": "2022-08-22T05:56:03.102169Z",
     "iopub.status.busy": "2022-08-22T05:56:03.096558Z",
     "iopub.status.idle": "2022-08-22T05:56:03.105138Z",
     "shell.execute_reply": "2022-08-22T05:56:03.104537Z",
     "shell.execute_reply.started": "2022-01-28T07:20:47.229741Z"
    },
    "papermill": {
     "duration": 0.079222,
     "end_time": "2022-08-22T05:56:03.105304",
     "exception": false,
     "start_time": "2022-08-22T05:56:03.026082",
     "status": "completed"
    },
    "tags": []
   },
   "outputs": [],
   "source": [
    "sales_data.replace({'Item_Fat_Content': {'low fat':'Low Fat','LF':'Low Fat', 'reg':'Regular'}}, inplace=True)"
   ]
  },
  {
   "cell_type": "code",
   "execution_count": 31,
   "id": "750f644c",
   "metadata": {
    "execution": {
     "iopub.execute_input": "2022-08-22T05:56:03.243805Z",
     "iopub.status.busy": "2022-08-22T05:56:03.243106Z",
     "iopub.status.idle": "2022-08-22T05:56:03.245794Z",
     "shell.execute_reply": "2022-08-22T05:56:03.246304Z",
     "shell.execute_reply.started": "2022-01-28T07:20:47.738549Z"
    },
    "papermill": {
     "duration": 0.074614,
     "end_time": "2022-08-22T05:56:03.246486",
     "exception": false,
     "start_time": "2022-08-22T05:56:03.171872",
     "status": "completed"
    },
    "tags": []
   },
   "outputs": [
    {
     "data": {
      "text/plain": [
       "Low Fat    5517\n",
       "Regular    3006\n",
       "Name: Item_Fat_Content, dtype: int64"
      ]
     },
     "execution_count": 31,
     "metadata": {},
     "output_type": "execute_result"
    }
   ],
   "source": [
    "sales_data['Item_Fat_Content'].value_counts()"
   ]
  },
  {
   "cell_type": "markdown",
   "id": "91b55a71",
   "metadata": {
    "papermill": {
     "duration": 0.065959,
     "end_time": "2022-08-22T05:56:03.376033",
     "exception": false,
     "start_time": "2022-08-22T05:56:03.310074",
     "status": "completed"
    },
    "tags": []
   },
   "source": [
    "Hence, we have successfully cleaned the data in Item_Fat_Content column"
   ]
  },
  {
   "cell_type": "markdown",
   "id": "861aac67",
   "metadata": {
    "papermill": {
     "duration": 0.065326,
     "end_time": "2022-08-22T05:56:03.506590",
     "exception": false,
     "start_time": "2022-08-22T05:56:03.441264",
     "status": "completed"
    },
    "tags": []
   },
   "source": [
    "**LABEL ENCODING:**\n",
    "*     Label Encoding refers to the convertion of the labels into a numeric form so as to convert them into the machine-readable form. Machine learning algorithms can then decide in a better way how those labels must be operated. It is an important pre-processing step for the structured dataset in supervised learning.\n",
    "\n",
    "*     In simple terms, taking all the categorical values & transforming them into some numerical values"
   ]
  },
  {
   "cell_type": "code",
   "execution_count": 32,
   "id": "8affe1e0",
   "metadata": {
    "execution": {
     "iopub.execute_input": "2022-08-22T05:56:03.642368Z",
     "iopub.status.busy": "2022-08-22T05:56:03.641489Z",
     "iopub.status.idle": "2022-08-22T05:56:03.643207Z",
     "shell.execute_reply": "2022-08-22T05:56:03.643721Z",
     "shell.execute_reply.started": "2022-01-28T07:20:49.450393Z"
    },
    "papermill": {
     "duration": 0.072594,
     "end_time": "2022-08-22T05:56:03.643996",
     "exception": false,
     "start_time": "2022-08-22T05:56:03.571402",
     "status": "completed"
    },
    "tags": []
   },
   "outputs": [],
   "source": [
    "encoder = LabelEncoder()"
   ]
  },
  {
   "cell_type": "code",
   "execution_count": 33,
   "id": "1d051765",
   "metadata": {
    "execution": {
     "iopub.execute_input": "2022-08-22T05:56:03.776778Z",
     "iopub.status.busy": "2022-08-22T05:56:03.776088Z",
     "iopub.status.idle": "2022-08-22T05:56:03.799283Z",
     "shell.execute_reply": "2022-08-22T05:56:03.800151Z",
     "shell.execute_reply.started": "2022-01-28T07:20:50.021863Z"
    },
    "papermill": {
     "duration": 0.091647,
     "end_time": "2022-08-22T05:56:03.800356",
     "exception": false,
     "start_time": "2022-08-22T05:56:03.708709",
     "status": "completed"
    },
    "tags": []
   },
   "outputs": [],
   "source": [
    "sales_data['Item_Identifier'] = encoder.fit_transform(sales_data['Item_Identifier'])\n",
    "\n",
    "sales_data['Item_Fat_Content'] = encoder.fit_transform(sales_data['Item_Fat_Content'])\n",
    "\n",
    "sales_data['Item_Type'] = encoder.fit_transform(sales_data['Item_Type'])\n",
    "\n",
    "sales_data['Outlet_Identifier'] = encoder.fit_transform(sales_data['Outlet_Identifier'])\n",
    "\n",
    "sales_data['Outlet_Size'] = encoder.fit_transform(sales_data['Outlet_Size'])\n",
    "\n",
    "sales_data['Outlet_Location_Type'] = encoder.fit_transform(sales_data['Outlet_Location_Type'])\n",
    "\n",
    "sales_data['Outlet_Type'] = encoder.fit_transform(sales_data['Outlet_Type'])"
   ]
  },
  {
   "cell_type": "code",
   "execution_count": 34,
   "id": "8e74aad1",
   "metadata": {
    "execution": {
     "iopub.execute_input": "2022-08-22T05:56:03.945148Z",
     "iopub.status.busy": "2022-08-22T05:56:03.944396Z",
     "iopub.status.idle": "2022-08-22T05:56:03.947224Z",
     "shell.execute_reply": "2022-08-22T05:56:03.947718Z",
     "shell.execute_reply.started": "2022-01-28T07:20:50.632747Z"
    },
    "papermill": {
     "duration": 0.081917,
     "end_time": "2022-08-22T05:56:03.947909",
     "exception": false,
     "start_time": "2022-08-22T05:56:03.865992",
     "status": "completed"
    },
    "tags": []
   },
   "outputs": [
    {
     "data": {
      "text/html": [
       "<div>\n",
       "<style scoped>\n",
       "    .dataframe tbody tr th:only-of-type {\n",
       "        vertical-align: middle;\n",
       "    }\n",
       "\n",
       "    .dataframe tbody tr th {\n",
       "        vertical-align: top;\n",
       "    }\n",
       "\n",
       "    .dataframe thead th {\n",
       "        text-align: right;\n",
       "    }\n",
       "</style>\n",
       "<table border=\"1\" class=\"dataframe\">\n",
       "  <thead>\n",
       "    <tr style=\"text-align: right;\">\n",
       "      <th></th>\n",
       "      <th>Item_Identifier</th>\n",
       "      <th>Item_Weight</th>\n",
       "      <th>Item_Fat_Content</th>\n",
       "      <th>Item_Visibility</th>\n",
       "      <th>Item_Type</th>\n",
       "      <th>Item_MRP</th>\n",
       "      <th>Outlet_Identifier</th>\n",
       "      <th>Outlet_Establishment_Year</th>\n",
       "      <th>Outlet_Size</th>\n",
       "      <th>Outlet_Location_Type</th>\n",
       "      <th>Outlet_Type</th>\n",
       "      <th>Item_Outlet_Sales</th>\n",
       "    </tr>\n",
       "  </thead>\n",
       "  <tbody>\n",
       "    <tr>\n",
       "      <th>0</th>\n",
       "      <td>156</td>\n",
       "      <td>9.30</td>\n",
       "      <td>0</td>\n",
       "      <td>0.016047</td>\n",
       "      <td>4</td>\n",
       "      <td>249.8092</td>\n",
       "      <td>9</td>\n",
       "      <td>1999</td>\n",
       "      <td>1</td>\n",
       "      <td>0</td>\n",
       "      <td>1</td>\n",
       "      <td>3735.1380</td>\n",
       "    </tr>\n",
       "    <tr>\n",
       "      <th>1</th>\n",
       "      <td>8</td>\n",
       "      <td>5.92</td>\n",
       "      <td>1</td>\n",
       "      <td>0.019278</td>\n",
       "      <td>14</td>\n",
       "      <td>48.2692</td>\n",
       "      <td>3</td>\n",
       "      <td>2009</td>\n",
       "      <td>1</td>\n",
       "      <td>2</td>\n",
       "      <td>2</td>\n",
       "      <td>443.4228</td>\n",
       "    </tr>\n",
       "    <tr>\n",
       "      <th>2</th>\n",
       "      <td>662</td>\n",
       "      <td>17.50</td>\n",
       "      <td>0</td>\n",
       "      <td>0.016760</td>\n",
       "      <td>10</td>\n",
       "      <td>141.6180</td>\n",
       "      <td>9</td>\n",
       "      <td>1999</td>\n",
       "      <td>1</td>\n",
       "      <td>0</td>\n",
       "      <td>1</td>\n",
       "      <td>2097.2700</td>\n",
       "    </tr>\n",
       "    <tr>\n",
       "      <th>3</th>\n",
       "      <td>1121</td>\n",
       "      <td>19.20</td>\n",
       "      <td>1</td>\n",
       "      <td>0.000000</td>\n",
       "      <td>6</td>\n",
       "      <td>182.0950</td>\n",
       "      <td>0</td>\n",
       "      <td>1998</td>\n",
       "      <td>2</td>\n",
       "      <td>2</td>\n",
       "      <td>0</td>\n",
       "      <td>732.3800</td>\n",
       "    </tr>\n",
       "    <tr>\n",
       "      <th>4</th>\n",
       "      <td>1297</td>\n",
       "      <td>8.93</td>\n",
       "      <td>0</td>\n",
       "      <td>0.000000</td>\n",
       "      <td>9</td>\n",
       "      <td>53.8614</td>\n",
       "      <td>1</td>\n",
       "      <td>1987</td>\n",
       "      <td>0</td>\n",
       "      <td>2</td>\n",
       "      <td>1</td>\n",
       "      <td>994.7052</td>\n",
       "    </tr>\n",
       "  </tbody>\n",
       "</table>\n",
       "</div>"
      ],
      "text/plain": [
       "   Item_Identifier  Item_Weight  Item_Fat_Content  Item_Visibility  Item_Type  \\\n",
       "0              156         9.30                 0         0.016047          4   \n",
       "1                8         5.92                 1         0.019278         14   \n",
       "2              662        17.50                 0         0.016760         10   \n",
       "3             1121        19.20                 1         0.000000          6   \n",
       "4             1297         8.93                 0         0.000000          9   \n",
       "\n",
       "   Item_MRP  Outlet_Identifier  Outlet_Establishment_Year  Outlet_Size  \\\n",
       "0  249.8092                  9                       1999            1   \n",
       "1   48.2692                  3                       2009            1   \n",
       "2  141.6180                  9                       1999            1   \n",
       "3  182.0950                  0                       1998            2   \n",
       "4   53.8614                  1                       1987            0   \n",
       "\n",
       "   Outlet_Location_Type  Outlet_Type  Item_Outlet_Sales  \n",
       "0                     0            1          3735.1380  \n",
       "1                     2            2           443.4228  \n",
       "2                     0            1          2097.2700  \n",
       "3                     2            0           732.3800  \n",
       "4                     2            1           994.7052  "
      ]
     },
     "execution_count": 34,
     "metadata": {},
     "output_type": "execute_result"
    }
   ],
   "source": [
    "sales_data.head()"
   ]
  },
  {
   "cell_type": "markdown",
   "id": "3c7ce5c5",
   "metadata": {
    "papermill": {
     "duration": 0.063918,
     "end_time": "2022-08-22T05:56:04.076190",
     "exception": false,
     "start_time": "2022-08-22T05:56:04.012272",
     "status": "completed"
    },
    "tags": []
   },
   "source": [
    "* Hence, we have only numerical values in our data where these categories are given some specific numerical values if it is unique\n",
    "\n",
    "* Therefore we have successfully encoded categorical columns into numerical values which is an important data preprocessing step."
   ]
  },
  {
   "cell_type": "markdown",
   "id": "83e2d29f",
   "metadata": {
    "papermill": {
     "duration": 0.063668,
     "end_time": "2022-08-22T05:56:04.204919",
     "exception": false,
     "start_time": "2022-08-22T05:56:04.141251",
     "status": "completed"
    },
    "tags": []
   },
   "source": [
    "**SPLITTING FEATURES AND TARGET INTO X & Y RESPECTIVELY**\n",
    "\n",
    "We know that the data in the \"Item_Outlet_Sales\" column is the target & remaining are the features"
   ]
  },
  {
   "cell_type": "code",
   "execution_count": 37,
   "id": "1e907fe3",
   "metadata": {
    "execution": {
     "iopub.execute_input": "2022-08-22T05:56:04.337099Z",
     "iopub.status.busy": "2022-08-22T05:56:04.336306Z",
     "iopub.status.idle": "2022-08-22T05:56:04.342067Z",
     "shell.execute_reply": "2022-08-22T05:56:04.342633Z",
     "shell.execute_reply.started": "2022-01-28T07:20:52.275436Z"
    },
    "papermill": {
     "duration": 0.073852,
     "end_time": "2022-08-22T05:56:04.342828",
     "exception": false,
     "start_time": "2022-08-22T05:56:04.268976",
     "status": "completed"
    },
    "tags": []
   },
   "outputs": [],
   "source": [
    "# Let's have all the features in X & target in Y\n",
    "X = sales_data.drop(columns='Item_Outlet_Sales', axis=1)\n",
    "Y = sales_data['Item_Outlet_Sales']"
   ]
  },
  {
   "cell_type": "code",
   "execution_count": 39,
   "id": "b779b1cc",
   "metadata": {
    "execution": {
     "iopub.execute_input": "2022-08-22T05:56:04.476764Z",
     "iopub.status.busy": "2022-08-22T05:56:04.475747Z",
     "iopub.status.idle": "2022-08-22T05:56:04.488323Z",
     "shell.execute_reply": "2022-08-22T05:56:04.487632Z",
     "shell.execute_reply.started": "2022-01-28T07:20:52.777358Z"
    },
    "papermill": {
     "duration": 0.080783,
     "end_time": "2022-08-22T05:56:04.488475",
     "exception": false,
     "start_time": "2022-08-22T05:56:04.407692",
     "status": "completed"
    },
    "tags": []
   },
   "outputs": [
    {
     "data": {
      "text/html": [
       "<div>\n",
       "<style scoped>\n",
       "    .dataframe tbody tr th:only-of-type {\n",
       "        vertical-align: middle;\n",
       "    }\n",
       "\n",
       "    .dataframe tbody tr th {\n",
       "        vertical-align: top;\n",
       "    }\n",
       "\n",
       "    .dataframe thead th {\n",
       "        text-align: right;\n",
       "    }\n",
       "</style>\n",
       "<table border=\"1\" class=\"dataframe\">\n",
       "  <thead>\n",
       "    <tr style=\"text-align: right;\">\n",
       "      <th></th>\n",
       "      <th>Item_Identifier</th>\n",
       "      <th>Item_Weight</th>\n",
       "      <th>Item_Fat_Content</th>\n",
       "      <th>Item_Visibility</th>\n",
       "      <th>Item_Type</th>\n",
       "      <th>Item_MRP</th>\n",
       "      <th>Outlet_Identifier</th>\n",
       "      <th>Outlet_Establishment_Year</th>\n",
       "      <th>Outlet_Size</th>\n",
       "      <th>Outlet_Location_Type</th>\n",
       "      <th>Outlet_Type</th>\n",
       "    </tr>\n",
       "  </thead>\n",
       "  <tbody>\n",
       "    <tr>\n",
       "      <th>0</th>\n",
       "      <td>156</td>\n",
       "      <td>9.300000</td>\n",
       "      <td>0</td>\n",
       "      <td>0.016047</td>\n",
       "      <td>4</td>\n",
       "      <td>249.8092</td>\n",
       "      <td>9</td>\n",
       "      <td>1999</td>\n",
       "      <td>1</td>\n",
       "      <td>0</td>\n",
       "      <td>1</td>\n",
       "    </tr>\n",
       "    <tr>\n",
       "      <th>1</th>\n",
       "      <td>8</td>\n",
       "      <td>5.920000</td>\n",
       "      <td>1</td>\n",
       "      <td>0.019278</td>\n",
       "      <td>14</td>\n",
       "      <td>48.2692</td>\n",
       "      <td>3</td>\n",
       "      <td>2009</td>\n",
       "      <td>1</td>\n",
       "      <td>2</td>\n",
       "      <td>2</td>\n",
       "    </tr>\n",
       "    <tr>\n",
       "      <th>2</th>\n",
       "      <td>662</td>\n",
       "      <td>17.500000</td>\n",
       "      <td>0</td>\n",
       "      <td>0.016760</td>\n",
       "      <td>10</td>\n",
       "      <td>141.6180</td>\n",
       "      <td>9</td>\n",
       "      <td>1999</td>\n",
       "      <td>1</td>\n",
       "      <td>0</td>\n",
       "      <td>1</td>\n",
       "    </tr>\n",
       "    <tr>\n",
       "      <th>3</th>\n",
       "      <td>1121</td>\n",
       "      <td>19.200000</td>\n",
       "      <td>1</td>\n",
       "      <td>0.000000</td>\n",
       "      <td>6</td>\n",
       "      <td>182.0950</td>\n",
       "      <td>0</td>\n",
       "      <td>1998</td>\n",
       "      <td>2</td>\n",
       "      <td>2</td>\n",
       "      <td>0</td>\n",
       "    </tr>\n",
       "    <tr>\n",
       "      <th>4</th>\n",
       "      <td>1297</td>\n",
       "      <td>8.930000</td>\n",
       "      <td>0</td>\n",
       "      <td>0.000000</td>\n",
       "      <td>9</td>\n",
       "      <td>53.8614</td>\n",
       "      <td>1</td>\n",
       "      <td>1987</td>\n",
       "      <td>0</td>\n",
       "      <td>2</td>\n",
       "      <td>1</td>\n",
       "    </tr>\n",
       "    <tr>\n",
       "      <th>5</th>\n",
       "      <td>758</td>\n",
       "      <td>10.395000</td>\n",
       "      <td>1</td>\n",
       "      <td>0.000000</td>\n",
       "      <td>0</td>\n",
       "      <td>51.4008</td>\n",
       "      <td>3</td>\n",
       "      <td>2009</td>\n",
       "      <td>1</td>\n",
       "      <td>2</td>\n",
       "      <td>2</td>\n",
       "    </tr>\n",
       "    <tr>\n",
       "      <th>6</th>\n",
       "      <td>696</td>\n",
       "      <td>13.650000</td>\n",
       "      <td>1</td>\n",
       "      <td>0.012741</td>\n",
       "      <td>13</td>\n",
       "      <td>57.6588</td>\n",
       "      <td>1</td>\n",
       "      <td>1987</td>\n",
       "      <td>0</td>\n",
       "      <td>2</td>\n",
       "      <td>1</td>\n",
       "    </tr>\n",
       "    <tr>\n",
       "      <th>7</th>\n",
       "      <td>738</td>\n",
       "      <td>12.857645</td>\n",
       "      <td>0</td>\n",
       "      <td>0.127470</td>\n",
       "      <td>13</td>\n",
       "      <td>107.7622</td>\n",
       "      <td>5</td>\n",
       "      <td>1985</td>\n",
       "      <td>1</td>\n",
       "      <td>2</td>\n",
       "      <td>3</td>\n",
       "    </tr>\n",
       "    <tr>\n",
       "      <th>8</th>\n",
       "      <td>440</td>\n",
       "      <td>16.200000</td>\n",
       "      <td>1</td>\n",
       "      <td>0.016687</td>\n",
       "      <td>5</td>\n",
       "      <td>96.9726</td>\n",
       "      <td>7</td>\n",
       "      <td>2002</td>\n",
       "      <td>2</td>\n",
       "      <td>1</td>\n",
       "      <td>1</td>\n",
       "    </tr>\n",
       "    <tr>\n",
       "      <th>9</th>\n",
       "      <td>990</td>\n",
       "      <td>19.200000</td>\n",
       "      <td>1</td>\n",
       "      <td>0.094450</td>\n",
       "      <td>5</td>\n",
       "      <td>187.8214</td>\n",
       "      <td>2</td>\n",
       "      <td>2007</td>\n",
       "      <td>2</td>\n",
       "      <td>1</td>\n",
       "      <td>1</td>\n",
       "    </tr>\n",
       "  </tbody>\n",
       "</table>\n",
       "</div>"
      ],
      "text/plain": [
       "   Item_Identifier  Item_Weight  Item_Fat_Content  Item_Visibility  Item_Type  \\\n",
       "0              156     9.300000                 0         0.016047          4   \n",
       "1                8     5.920000                 1         0.019278         14   \n",
       "2              662    17.500000                 0         0.016760         10   \n",
       "3             1121    19.200000                 1         0.000000          6   \n",
       "4             1297     8.930000                 0         0.000000          9   \n",
       "5              758    10.395000                 1         0.000000          0   \n",
       "6              696    13.650000                 1         0.012741         13   \n",
       "7              738    12.857645                 0         0.127470         13   \n",
       "8              440    16.200000                 1         0.016687          5   \n",
       "9              990    19.200000                 1         0.094450          5   \n",
       "\n",
       "   Item_MRP  Outlet_Identifier  Outlet_Establishment_Year  Outlet_Size  \\\n",
       "0  249.8092                  9                       1999            1   \n",
       "1   48.2692                  3                       2009            1   \n",
       "2  141.6180                  9                       1999            1   \n",
       "3  182.0950                  0                       1998            2   \n",
       "4   53.8614                  1                       1987            0   \n",
       "5   51.4008                  3                       2009            1   \n",
       "6   57.6588                  1                       1987            0   \n",
       "7  107.7622                  5                       1985            1   \n",
       "8   96.9726                  7                       2002            2   \n",
       "9  187.8214                  2                       2007            2   \n",
       "\n",
       "   Outlet_Location_Type  Outlet_Type  \n",
       "0                     0            1  \n",
       "1                     2            2  \n",
       "2                     0            1  \n",
       "3                     2            0  \n",
       "4                     2            1  \n",
       "5                     2            2  \n",
       "6                     2            1  \n",
       "7                     2            3  \n",
       "8                     1            1  \n",
       "9                     1            1  "
      ]
     },
     "execution_count": 39,
     "metadata": {},
     "output_type": "execute_result"
    }
   ],
   "source": [
    "# X contains features\n",
    "X.head(10)"
   ]
  },
  {
   "cell_type": "code",
   "execution_count": 40,
   "id": "f2658d30",
   "metadata": {
    "execution": {
     "iopub.execute_input": "2022-08-22T05:56:04.627725Z",
     "iopub.status.busy": "2022-08-22T05:56:04.626784Z",
     "iopub.status.idle": "2022-08-22T05:56:04.630477Z",
     "shell.execute_reply": "2022-08-22T05:56:04.631228Z",
     "shell.execute_reply.started": "2022-01-28T07:20:53.304692Z"
    },
    "papermill": {
     "duration": 0.078141,
     "end_time": "2022-08-22T05:56:04.631475",
     "exception": false,
     "start_time": "2022-08-22T05:56:04.553334",
     "status": "completed"
    },
    "tags": []
   },
   "outputs": [
    {
     "data": {
      "text/plain": [
       "0    3735.1380\n",
       "1     443.4228\n",
       "2    2097.2700\n",
       "3     732.3800\n",
       "4     994.7052\n",
       "5     556.6088\n",
       "6     343.5528\n",
       "7    4022.7636\n",
       "8    1076.5986\n",
       "9    4710.5350\n",
       "Name: Item_Outlet_Sales, dtype: float64"
      ]
     },
     "execution_count": 40,
     "metadata": {},
     "output_type": "execute_result"
    }
   ],
   "source": [
    "# Y contains target\n",
    "Y.head(10)"
   ]
  },
  {
   "cell_type": "markdown",
   "id": "6493c21d",
   "metadata": {
    "papermill": {
     "duration": 0.065938,
     "end_time": "2022-08-22T05:56:04.764740",
     "exception": false,
     "start_time": "2022-08-22T05:56:04.698802",
     "status": "completed"
    },
    "tags": []
   },
   "source": [
    "## 4. Train-Test-Split:"
   ]
  },
  {
   "cell_type": "code",
   "execution_count": 41,
   "id": "8548a480",
   "metadata": {
    "execution": {
     "iopub.execute_input": "2022-08-22T05:56:04.904906Z",
     "iopub.status.busy": "2022-08-22T05:56:04.903940Z",
     "iopub.status.idle": "2022-08-22T05:56:04.909875Z",
     "shell.execute_reply": "2022-08-22T05:56:04.910469Z",
     "shell.execute_reply.started": "2022-01-28T07:20:54.380007Z"
    },
    "papermill": {
     "duration": 0.079115,
     "end_time": "2022-08-22T05:56:04.910657",
     "exception": false,
     "start_time": "2022-08-22T05:56:04.831542",
     "status": "completed"
    },
    "tags": []
   },
   "outputs": [],
   "source": [
    "X_train, X_test, Y_train, Y_test = train_test_split(X, Y, test_size=0.2, random_state=2)"
   ]
  },
  {
   "cell_type": "code",
   "execution_count": 42,
   "id": "6d980ca5",
   "metadata": {
    "execution": {
     "iopub.execute_input": "2022-08-22T05:56:05.046428Z",
     "iopub.status.busy": "2022-08-22T05:56:05.045434Z",
     "iopub.status.idle": "2022-08-22T05:56:05.051474Z",
     "shell.execute_reply": "2022-08-22T05:56:05.052145Z",
     "shell.execute_reply.started": "2022-01-28T07:20:54.924768Z"
    },
    "papermill": {
     "duration": 0.076266,
     "end_time": "2022-08-22T05:56:05.052383",
     "exception": false,
     "start_time": "2022-08-22T05:56:04.976117",
     "status": "completed"
    },
    "tags": []
   },
   "outputs": [
    {
     "name": "stdout",
     "output_type": "stream",
     "text": [
      "(8523, 11) (6818, 11) (1705, 11)\n"
     ]
    }
   ],
   "source": [
    "print(X.shape, X_train.shape, X_test.shape)"
   ]
  },
  {
   "cell_type": "markdown",
   "id": "ebd13d48",
   "metadata": {
    "papermill": {
     "duration": 0.06583,
     "end_time": "2022-08-22T05:56:05.185415",
     "exception": false,
     "start_time": "2022-08-22T05:56:05.119585",
     "status": "completed"
    },
    "tags": []
   },
   "source": [
    "We can observe that\n",
    "\n",
    "* X contains the original data which is 8523\n",
    "\n",
    "* X_trains contains 80% of the data which is 6818\n",
    "\n",
    "* X_test contains 20% of the data which is 1705"
   ]
  },
  {
   "cell_type": "markdown",
   "id": "4e9ba237",
   "metadata": {
    "papermill": {
     "duration": 0.065522,
     "end_time": "2022-08-22T05:56:05.318051",
     "exception": false,
     "start_time": "2022-08-22T05:56:05.252529",
     "status": "completed"
    },
    "tags": []
   },
   "source": [
    "## 5. Applying XGBOOST ML Algorithm:"
   ]
  },
  {
   "cell_type": "markdown",
   "id": "e15fd19b",
   "metadata": {
    "papermill": {
     "duration": 0.065595,
     "end_time": "2022-08-22T05:56:05.449408",
     "exception": false,
     "start_time": "2022-08-22T05:56:05.383813",
     "status": "completed"
    },
    "tags": []
   },
   "source": [
    "**SUPERVISED LEARNING:**\n",
    "\n",
    "*  It is defined by its use of labeled datasets to train algorithms that to classify data or predict outcomes accurately. \n",
    "\n",
    "* Basically supervised learning is when we teach or train the machine using data that is well labeled.\n",
    "\n",
    "* In this particular project, the labels are the target which is more precise.\n",
    "\n",
    "* In this case the targets are sales amount\n",
    "\n",
    "**REGRESSION:**\n",
    "\n",
    "* Regression means predicting a particular value especially continuous value (i.e.sales)"
   ]
  },
  {
   "cell_type": "markdown",
   "id": "ce5a33e9",
   "metadata": {
    "papermill": {
     "duration": 0.067766,
     "end_time": "2022-08-22T05:56:05.584473",
     "exception": false,
     "start_time": "2022-08-22T05:56:05.516707",
     "status": "completed"
    },
    "tags": []
   },
   "source": [
    "**MACHINE LEARNING MODEL TRAINING - XGBoost Regressor**\n",
    "\n",
    "Extreme Gradient Boosting (XGBoost) is an open-source library that provides an efficient and effective implementation of the gradient boosting algorithm.XGBoost is an efficient implementation of gradient boosting that can be used for regression predictive modeling."
   ]
  },
  {
   "cell_type": "code",
   "execution_count": 43,
   "id": "be08e7c4",
   "metadata": {
    "execution": {
     "iopub.execute_input": "2022-08-22T05:56:05.723267Z",
     "iopub.status.busy": "2022-08-22T05:56:05.722199Z",
     "iopub.status.idle": "2022-08-22T05:56:05.726324Z",
     "shell.execute_reply": "2022-08-22T05:56:05.726889Z",
     "shell.execute_reply.started": "2022-01-28T07:20:59.434089Z"
    },
    "papermill": {
     "duration": 0.075514,
     "end_time": "2022-08-22T05:56:05.727098",
     "exception": false,
     "start_time": "2022-08-22T05:56:05.651584",
     "status": "completed"
    },
    "tags": []
   },
   "outputs": [],
   "source": [
    "regressor = XGBRegressor()"
   ]
  },
  {
   "cell_type": "code",
   "execution_count": 44,
   "id": "0c95644e",
   "metadata": {
    "execution": {
     "iopub.execute_input": "2022-08-22T05:56:05.882294Z",
     "iopub.status.busy": "2022-08-22T05:56:05.876252Z",
     "iopub.status.idle": "2022-08-22T05:56:07.454778Z",
     "shell.execute_reply": "2022-08-22T05:56:07.455316Z",
     "shell.execute_reply.started": "2022-01-28T07:21:00.025409Z"
    },
    "papermill": {
     "duration": 1.656984,
     "end_time": "2022-08-22T05:56:07.455508",
     "exception": false,
     "start_time": "2022-08-22T05:56:05.798524",
     "status": "completed"
    },
    "tags": []
   },
   "outputs": [
    {
     "data": {
      "text/html": [
       "<style>#sk-container-id-1 {color: black;background-color: white;}#sk-container-id-1 pre{padding: 0;}#sk-container-id-1 div.sk-toggleable {background-color: white;}#sk-container-id-1 label.sk-toggleable__label {cursor: pointer;display: block;width: 100%;margin-bottom: 0;padding: 0.3em;box-sizing: border-box;text-align: center;}#sk-container-id-1 label.sk-toggleable__label-arrow:before {content: \"▸\";float: left;margin-right: 0.25em;color: #696969;}#sk-container-id-1 label.sk-toggleable__label-arrow:hover:before {color: black;}#sk-container-id-1 div.sk-estimator:hover label.sk-toggleable__label-arrow:before {color: black;}#sk-container-id-1 div.sk-toggleable__content {max-height: 0;max-width: 0;overflow: hidden;text-align: left;background-color: #f0f8ff;}#sk-container-id-1 div.sk-toggleable__content pre {margin: 0.2em;color: black;border-radius: 0.25em;background-color: #f0f8ff;}#sk-container-id-1 input.sk-toggleable__control:checked~div.sk-toggleable__content {max-height: 200px;max-width: 100%;overflow: auto;}#sk-container-id-1 input.sk-toggleable__control:checked~label.sk-toggleable__label-arrow:before {content: \"▾\";}#sk-container-id-1 div.sk-estimator input.sk-toggleable__control:checked~label.sk-toggleable__label {background-color: #d4ebff;}#sk-container-id-1 div.sk-label input.sk-toggleable__control:checked~label.sk-toggleable__label {background-color: #d4ebff;}#sk-container-id-1 input.sk-hidden--visually {border: 0;clip: rect(1px 1px 1px 1px);clip: rect(1px, 1px, 1px, 1px);height: 1px;margin: -1px;overflow: hidden;padding: 0;position: absolute;width: 1px;}#sk-container-id-1 div.sk-estimator {font-family: monospace;background-color: #f0f8ff;border: 1px dotted black;border-radius: 0.25em;box-sizing: border-box;margin-bottom: 0.5em;}#sk-container-id-1 div.sk-estimator:hover {background-color: #d4ebff;}#sk-container-id-1 div.sk-parallel-item::after {content: \"\";width: 100%;border-bottom: 1px solid gray;flex-grow: 1;}#sk-container-id-1 div.sk-label:hover label.sk-toggleable__label {background-color: #d4ebff;}#sk-container-id-1 div.sk-serial::before {content: \"\";position: absolute;border-left: 1px solid gray;box-sizing: border-box;top: 0;bottom: 0;left: 50%;z-index: 0;}#sk-container-id-1 div.sk-serial {display: flex;flex-direction: column;align-items: center;background-color: white;padding-right: 0.2em;padding-left: 0.2em;position: relative;}#sk-container-id-1 div.sk-item {position: relative;z-index: 1;}#sk-container-id-1 div.sk-parallel {display: flex;align-items: stretch;justify-content: center;background-color: white;position: relative;}#sk-container-id-1 div.sk-item::before, #sk-container-id-1 div.sk-parallel-item::before {content: \"\";position: absolute;border-left: 1px solid gray;box-sizing: border-box;top: 0;bottom: 0;left: 50%;z-index: -1;}#sk-container-id-1 div.sk-parallel-item {display: flex;flex-direction: column;z-index: 1;position: relative;background-color: white;}#sk-container-id-1 div.sk-parallel-item:first-child::after {align-self: flex-end;width: 50%;}#sk-container-id-1 div.sk-parallel-item:last-child::after {align-self: flex-start;width: 50%;}#sk-container-id-1 div.sk-parallel-item:only-child::after {width: 0;}#sk-container-id-1 div.sk-dashed-wrapped {border: 1px dashed gray;margin: 0 0.4em 0.5em 0.4em;box-sizing: border-box;padding-bottom: 0.4em;background-color: white;}#sk-container-id-1 div.sk-label label {font-family: monospace;font-weight: bold;display: inline-block;line-height: 1.2em;}#sk-container-id-1 div.sk-label-container {text-align: center;}#sk-container-id-1 div.sk-container {/* jupyter's `normalize.less` sets `[hidden] { display: none; }` but bootstrap.min.css set `[hidden] { display: none !important; }` so we also need the `!important` here to be able to override the default hidden behavior on the sphinx rendered scikit-learn.org. See: https://github.com/scikit-learn/scikit-learn/issues/21755 */display: inline-block !important;position: relative;}#sk-container-id-1 div.sk-text-repr-fallback {display: none;}</style><div id=\"sk-container-id-1\" class=\"sk-top-container\"><div class=\"sk-text-repr-fallback\"><pre>XGBRegressor(base_score=0.5, booster=&#x27;gbtree&#x27;, callbacks=None,\n",
       "             colsample_bylevel=1, colsample_bynode=1, colsample_bytree=1,\n",
       "             early_stopping_rounds=None, enable_categorical=False,\n",
       "             eval_metric=None, gamma=0, gpu_id=-1, grow_policy=&#x27;depthwise&#x27;,\n",
       "             importance_type=None, interaction_constraints=&#x27;&#x27;,\n",
       "             learning_rate=0.300000012, max_bin=256, max_cat_to_onehot=4,\n",
       "             max_delta_step=0, max_depth=6, max_leaves=0, min_child_weight=1,\n",
       "             missing=nan, monotone_constraints=&#x27;()&#x27;, n_estimators=100, n_jobs=0,\n",
       "             num_parallel_tree=1, predictor=&#x27;auto&#x27;, random_state=0, reg_alpha=0,\n",
       "             reg_lambda=1, ...)</pre><b>In a Jupyter environment, please rerun this cell to show the HTML representation or trust the notebook. <br />On GitHub, the HTML representation is unable to render, please try loading this page with nbviewer.org.</b></div><div class=\"sk-container\" hidden><div class=\"sk-item\"><div class=\"sk-estimator sk-toggleable\"><input class=\"sk-toggleable__control sk-hidden--visually\" id=\"sk-estimator-id-1\" type=\"checkbox\" checked><label for=\"sk-estimator-id-1\" class=\"sk-toggleable__label sk-toggleable__label-arrow\">XGBRegressor</label><div class=\"sk-toggleable__content\"><pre>XGBRegressor(base_score=0.5, booster=&#x27;gbtree&#x27;, callbacks=None,\n",
       "             colsample_bylevel=1, colsample_bynode=1, colsample_bytree=1,\n",
       "             early_stopping_rounds=None, enable_categorical=False,\n",
       "             eval_metric=None, gamma=0, gpu_id=-1, grow_policy=&#x27;depthwise&#x27;,\n",
       "             importance_type=None, interaction_constraints=&#x27;&#x27;,\n",
       "             learning_rate=0.300000012, max_bin=256, max_cat_to_onehot=4,\n",
       "             max_delta_step=0, max_depth=6, max_leaves=0, min_child_weight=1,\n",
       "             missing=nan, monotone_constraints=&#x27;()&#x27;, n_estimators=100, n_jobs=0,\n",
       "             num_parallel_tree=1, predictor=&#x27;auto&#x27;, random_state=0, reg_alpha=0,\n",
       "             reg_lambda=1, ...)</pre></div></div></div></div></div>"
      ],
      "text/plain": [
       "XGBRegressor(base_score=0.5, booster='gbtree', callbacks=None,\n",
       "             colsample_bylevel=1, colsample_bynode=1, colsample_bytree=1,\n",
       "             early_stopping_rounds=None, enable_categorical=False,\n",
       "             eval_metric=None, gamma=0, gpu_id=-1, grow_policy='depthwise',\n",
       "             importance_type=None, interaction_constraints='',\n",
       "             learning_rate=0.300000012, max_bin=256, max_cat_to_onehot=4,\n",
       "             max_delta_step=0, max_depth=6, max_leaves=0, min_child_weight=1,\n",
       "             missing=nan, monotone_constraints='()', n_estimators=100, n_jobs=0,\n",
       "             num_parallel_tree=1, predictor='auto', random_state=0, reg_alpha=0,\n",
       "             reg_lambda=1, ...)"
      ]
     },
     "execution_count": 44,
     "metadata": {},
     "output_type": "execute_result"
    }
   ],
   "source": [
    "# Fit the model\n",
    "# Training data is in X_train and the corresponding price value is in the Y_train\n",
    "regressor.fit(X_train, Y_train)"
   ]
  },
  {
   "cell_type": "markdown",
   "id": "f87661dc",
   "metadata": {},
   "source": [
    "## 6. Model Evaluation:"
   ]
  },
  {
   "cell_type": "markdown",
   "id": "6719edbe",
   "metadata": {
    "papermill": {
     "duration": 0.068299,
     "end_time": "2022-08-22T05:56:07.591470",
     "exception": false,
     "start_time": "2022-08-22T05:56:07.523171",
     "status": "completed"
    },
    "tags": []
   },
   "source": [
    "The R2 score is a very important metric that is used to evaluate the performance of a regression-based machine learning model. It is pronounced as R squared and is also known as the coefficient of determination. It works by measuring the amount of variance in the predictions explained by the dataset."
   ]
  },
  {
   "cell_type": "markdown",
   "id": "dd713b87",
   "metadata": {
    "papermill": {
     "duration": 0.065286,
     "end_time": "2022-08-22T05:56:07.722312",
     "exception": false,
     "start_time": "2022-08-22T05:56:07.657026",
     "status": "completed"
    },
    "tags": []
   },
   "source": [
    "**PREDICTION OF THE DATA**"
   ]
  },
  {
   "cell_type": "code",
   "execution_count": 45,
   "id": "943abe5f",
   "metadata": {
    "execution": {
     "iopub.execute_input": "2022-08-22T05:56:07.859348Z",
     "iopub.status.busy": "2022-08-22T05:56:07.858385Z",
     "iopub.status.idle": "2022-08-22T05:56:07.876069Z",
     "shell.execute_reply": "2022-08-22T05:56:07.876607Z",
     "shell.execute_reply.started": "2022-01-28T07:21:01.122392Z"
    },
    "papermill": {
     "duration": 0.088649,
     "end_time": "2022-08-22T05:56:07.876834",
     "exception": false,
     "start_time": "2022-08-22T05:56:07.788185",
     "status": "completed"
    },
    "tags": []
   },
   "outputs": [],
   "source": [
    "sales_data_prediction = regressor.predict(X_train)"
   ]
  },
  {
   "cell_type": "code",
   "execution_count": 46,
   "id": "eaecdb31",
   "metadata": {
    "execution": {
     "iopub.execute_input": "2022-08-22T05:56:08.018464Z",
     "iopub.status.busy": "2022-08-22T05:56:08.017746Z",
     "iopub.status.idle": "2022-08-22T05:56:08.022600Z",
     "shell.execute_reply": "2022-08-22T05:56:08.023485Z",
     "shell.execute_reply.started": "2022-01-28T07:21:14.281842Z"
    },
    "papermill": {
     "duration": 0.078512,
     "end_time": "2022-08-22T05:56:08.023733",
     "exception": false,
     "start_time": "2022-08-22T05:56:07.945221",
     "status": "completed"
    },
    "tags": []
   },
   "outputs": [
    {
     "name": "stdout",
     "output_type": "stream",
     "text": [
      "R Squared value =  0.8639680373364909\n"
     ]
    }
   ],
   "source": [
    "# In order to check the performance of the model we find the R squared Value\n",
    "r2_sales = metrics.r2_score(Y_train, sales_data_prediction)\n",
    "print('R Squared value = ', r2_sales)"
   ]
  },
  {
   "cell_type": "code",
   "execution_count": 47,
   "id": "7b434140",
   "metadata": {
    "execution": {
     "iopub.execute_input": "2022-08-22T05:56:08.163742Z",
     "iopub.status.busy": "2022-08-22T05:56:08.162726Z",
     "iopub.status.idle": "2022-08-22T05:56:08.175093Z",
     "shell.execute_reply": "2022-08-22T05:56:08.175712Z",
     "shell.execute_reply.started": "2022-01-28T07:21:17.660274Z"
    },
    "papermill": {
     "duration": 0.083456,
     "end_time": "2022-08-22T05:56:08.175923",
     "exception": false,
     "start_time": "2022-08-22T05:56:08.092467",
     "status": "completed"
    },
    "tags": []
   },
   "outputs": [],
   "source": [
    "# prediction on test data\n",
    "data_prediction = regressor.predict(X_test)"
   ]
  },
  {
   "cell_type": "code",
   "execution_count": 48,
   "id": "d15d6665",
   "metadata": {
    "execution": {
     "iopub.execute_input": "2022-08-22T05:56:08.319653Z",
     "iopub.status.busy": "2022-08-22T05:56:08.318867Z",
     "iopub.status.idle": "2022-08-22T05:56:08.322546Z",
     "shell.execute_reply": "2022-08-22T05:56:08.321804Z",
     "shell.execute_reply.started": "2022-01-28T07:21:18.192986Z"
    },
    "papermill": {
     "duration": 0.078264,
     "end_time": "2022-08-22T05:56:08.322706",
     "exception": false,
     "start_time": "2022-08-22T05:56:08.244442",
     "status": "completed"
    },
    "tags": []
   },
   "outputs": [],
   "source": [
    "# R squared Value\n",
    "r2_data = metrics.r2_score(Y_test, data_prediction)"
   ]
  },
  {
   "cell_type": "code",
   "execution_count": 49,
   "id": "0233b5c0",
   "metadata": {
    "execution": {
     "iopub.execute_input": "2022-08-22T05:56:08.468262Z",
     "iopub.status.busy": "2022-08-22T05:56:08.467479Z",
     "iopub.status.idle": "2022-08-22T05:56:08.470827Z",
     "shell.execute_reply": "2022-08-22T05:56:08.471569Z",
     "shell.execute_reply.started": "2022-01-28T07:21:18.789008Z"
    },
    "papermill": {
     "duration": 0.079033,
     "end_time": "2022-08-22T05:56:08.471812",
     "exception": false,
     "start_time": "2022-08-22T05:56:08.392779",
     "status": "completed"
    },
    "tags": []
   },
   "outputs": [
    {
     "name": "stdout",
     "output_type": "stream",
     "text": [
      "R Squared value =  0.5233136709735687\n"
     ]
    }
   ],
   "source": [
    "print('R Squared value = ', r2_data)"
   ]
  },
  {
   "cell_type": "markdown",
   "id": "1e7e49fa",
   "metadata": {
    "papermill": {
     "duration": 0.067002,
     "end_time": "2022-08-22T05:56:08.610872",
     "exception": false,
     "start_time": "2022-08-22T05:56:08.543870",
     "status": "completed"
    },
    "tags": []
   },
   "source": [
    "**BUILDING A PREDICTIVE SYSTEM**\n",
    "\n",
    "* Building a predictive system inorder to find the sales for the first product from the dataset"
   ]
  },
  {
   "cell_type": "code",
   "execution_count": 51,
   "id": "60e74d4d",
   "metadata": {
    "execution": {
     "iopub.execute_input": "2022-08-22T05:56:08.752544Z",
     "iopub.status.busy": "2022-08-22T05:56:08.751587Z",
     "iopub.status.idle": "2022-08-22T05:56:08.755184Z",
     "shell.execute_reply": "2022-08-22T05:56:08.755923Z",
     "shell.execute_reply.started": "2022-01-28T07:21:19.459620Z"
    },
    "papermill": {
     "duration": 0.078089,
     "end_time": "2022-08-22T05:56:08.756184",
     "exception": false,
     "start_time": "2022-08-22T05:56:08.678095",
     "status": "completed"
    },
    "tags": []
   },
   "outputs": [
    {
     "name": "stdout",
     "output_type": "stream",
     "text": [
      "The sales for the first product in the dataset is predicted as:  2282.8953\n"
     ]
    }
   ],
   "source": [
    "input_data = (156, 9.300, 0, 0.016047, 4, 249.8092, 9, 1999,1, 0, 1)\n",
    "#input_data_as_numpy_array = np.asarray(input_data)\n",
    "#input_data_reshaped = input_data_as_numpy_array.reshape(1,-1)\n",
    "#prediction = regressor.predict(input_data_reshaped)\n",
    "#print(prediction)\n",
    "#print(\"The initial value is \",prediction[0])\n",
    "print(\"The sales for the first product in the dataset is predicted as: \", sales_data_prediction[0])"
   ]
  },
  {
   "cell_type": "code",
   "execution_count": null,
   "id": "24ded569",
   "metadata": {
    "papermill": {
     "duration": 0.070388,
     "end_time": "2022-08-22T05:56:09.188113",
     "exception": false,
     "start_time": "2022-08-22T05:56:09.117725",
     "status": "completed"
    },
    "tags": []
   },
   "outputs": [],
   "source": []
  }
 ],
 "metadata": {
  "kernelspec": {
   "display_name": "Python 3 (ipykernel)",
   "language": "python",
   "name": "python3"
  },
  "language_info": {
   "codemirror_mode": {
    "name": "ipython",
    "version": 3
   },
   "file_extension": ".py",
   "mimetype": "text/x-python",
   "name": "python",
   "nbconvert_exporter": "python",
   "pygments_lexer": "ipython3",
   "version": "3.9.16"
  },
  "papermill": {
   "default_parameters": {},
   "duration": 28.533745,
   "end_time": "2022-08-22T05:56:10.069495",
   "environment_variables": {},
   "exception": null,
   "input_path": "__notebook__.ipynb",
   "output_path": "__notebook__.ipynb",
   "parameters": {},
   "start_time": "2022-08-22T05:55:41.535750",
   "version": "2.3.3"
  }
 },
 "nbformat": 4,
 "nbformat_minor": 5
}
